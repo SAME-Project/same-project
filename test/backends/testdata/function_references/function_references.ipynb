{
 "cells": [
  {
   "cell_type": "code",
   "execution_count": 6,
   "metadata": {},
   "outputs": [],
   "source": [
    "# We can inspect the output context in kubeflow to ensure this changes to '1'.\n",
    "x = 0\n",
    "\n",
    "def a():\n",
    "    global x\n",
    "    x = 1\n",
    "    \n",
    "def b():\n",
    "    a()\n",
    "    \n",
    "b()"
   ]
  }
 ],
 "metadata": {
  "kernelspec": {
   "display_name": "Python 3",
   "language": "python",
   "name": "python3"
  },
  "language_info": {
   "codemirror_mode": {
    "name": "ipython",
    "version": 3
   },
   "file_extension": ".py",
   "mimetype": "text/x-python",
   "name": "python",
   "nbconvert_exporter": "python",
   "pygments_lexer": "ipython3",
   "version": "3.6.9"
  }
 },
 "nbformat": 4,
 "nbformat_minor": 4
}
