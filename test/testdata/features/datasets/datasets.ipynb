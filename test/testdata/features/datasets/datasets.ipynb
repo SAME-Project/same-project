<<<<<<< HEAD
{
 "cells": [
  {
   "cell_type": "code",
   "execution_count": 6,
   "metadata": {},
   "outputs": [],
   "source": [
    "import sameproject.sdk as sdk\n",
    "\n",
    "# Should load the 'example' dataset in the 'default' environment, which is an IPFS json file.\n",
    "x = sdk.dataset(\"example\").to_json()"
   ]
  }
 ],
 "metadata": {
  "kernelspec": {
   "display_name": "Python 3 (ipykernel)",
   "language": "python",
   "name": "python3"
  },
  "language_info": {
   "codemirror_mode": {
    "name": "ipython",
    "version": 3
   },
   "file_extension": ".py",
   "mimetype": "text/x-python",
   "name": "python",
   "nbconvert_exporter": "python",
   "pygments_lexer": "ipython3",
   "version": "3.10.4"
  }
 },
 "nbformat": 4,
 "nbformat_minor": 4
}
||||||| 282e064
=======
{
 "cells": [
  {
   "cell_type": "code",
<<<<<<< HEAD:test/ops/testdata/minimal_notebook/minimal.ipynb
   "execution_count": null,
   "id": "6a273ed8",
   "metadata": {},
||||||| 282e064:test/backends/testdata/sample_notebooks/single_cell_code_with_output.ipynb
   "execution_count": null,
   "source": [
    "print(\"SAME OUTPUT\")"
   ],
=======
   "execution_count": 6,
   "metadata": {},
>>>>>>> main:test/testdata/features/datasets/datasets.ipynb
   "outputs": [],
<<<<<<< HEAD:test/ops/testdata/minimal_notebook/minimal.ipynb
   "source": [
    "print(\"Hello world\")"
   ]
||||||| 282e064:test/backends/testdata/sample_notebooks/single_cell_code_with_output.ipynb
   "metadata": {}
=======
   "source": [
    "import sameproject.sdk as sdk\n",
    "\n",
    "# Should load the 'example' dataset in the 'default' environment, which is an IPFS json file.\n",
    "x = sdk.dataset(\"example\").to_json()"
   ]
>>>>>>> main:test/testdata/features/datasets/datasets.ipynb
  }
 ],
 "metadata": {
  "kernelspec": {
   "display_name": "Python 3 (ipykernel)",
   "language": "python",
   "name": "python3"
  },
  "language_info": {
   "codemirror_mode": {
    "name": "ipython",
    "version": 3
   },
   "file_extension": ".py",
   "mimetype": "text/x-python",
   "name": "python",
   "nbconvert_exporter": "python",
   "pygments_lexer": "ipython3",
   "version": "3.10.4"
  }
 },
 "nbformat": 4,
<<<<<<< HEAD:test/ops/testdata/minimal_notebook/minimal.ipynb
 "nbformat_minor": 5
}
||||||| 282e064:test/backends/testdata/sample_notebooks/single_cell_code_with_output.ipynb
 "nbformat_minor": 5
}
=======
 "nbformat_minor": 4
}
>>>>>>> main:test/testdata/features/datasets/datasets.ipynb
>>>>>>> main
