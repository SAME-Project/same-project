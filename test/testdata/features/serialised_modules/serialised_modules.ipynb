{
 "cells": [
  {
   "cell_type": "code",
   "execution_count": 1,
   "metadata": {},
   "outputs": [],
   "source": [
    "# Things imported in one step should be accessible in other steps.\n",
    "import base64\n",
    "import base64 as b64\n",
    "from base64 import urlsafe_b64encode as ub64e\n",
		"\n",
		"# Numpy is a problematic case for dill: \n",
		"import numpy as np"
   ]
  },
  {
   "cell_type": "code",
   "execution_count": 5,
   "metadata": {
    "tags": [
     "same_step_1"
    ]
   },
   "outputs": [],
   "source": [
    "x = base64.urlsafe_b64encode(\"test\".encode())\n",
    "y = b64.urlsafe_b64encode(\"test\".encode())\n",
    "z = ub64e(\"test\".encode())\n",
		"a = np.array([1,2,3])"
   ]
  }
 ],
 "metadata": {
  "celltoolbar": "Tags",
  "kernelspec": {
   "display_name": "Python 3 (ipykernel)",
   "language": "python",
   "name": "python3"
  },
  "language_info": {
   "codemirror_mode": {
    "name": "ipython",
    "version": 3
   },
   "file_extension": ".py",
   "mimetype": "text/x-python",
   "name": "python",
   "nbconvert_exporter": "python",
   "pygments_lexer": "ipython3",
   "version": "3.10.2"
  }
 },
 "nbformat": 4,
 "nbformat_minor": 4
}
