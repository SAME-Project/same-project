{
 "cells": [
  {
   "cell_type": "markdown",
   "metadata": {
    "id": "gC6qMkJooFub"
   },
   "source": [
    "## Concise Logistic Regression for Image Classification\n",
    "\n",
    "- Shows a concise implementation of logistic regression for image classification\n",
    "- Uses PyTorch"
   ]
  },
  {
   "cell_type": "code",
   "execution_count": null,
   "metadata": {
    "executionInfo": {
     "elapsed": 7635,
     "status": "ok",
     "timestamp": 1649002602863,
     "user": {
      "displayName": "Elvis Saravia",
      "userId": "17830731333114781815"
     },
     "user_tz": -60
    },
    "id": "tI49R1p0n-XM"
   },
   "outputs": [],
   "source": [
    "# imports\n",
    "import torch\n",
    "import torchvision\n",
    "import torch.nn as nn\n",
    "from torchvision import datasets, models, transforms\n",
    "import os\n",
    "import numpy as np\n",
    "import matplotlib.pyplot as plt\n",
    "\n",
    "%matplotlib inline\n",
    "\n",
    "# use gpu if available\n",
    "device = torch.device(\"cuda:0\" if torch.cuda.is_available() else \"cpu\")"
   ]
  },
  {
   "cell_type": "code",
   "execution_count": null,
   "metadata": {
    "colab": {
     "base_uri": "https://localhost:8080/"
    },
    "executionInfo": {
     "elapsed": 2722,
     "status": "ok",
     "timestamp": 1649002642622,
     "user": {
      "displayName": "Elvis Saravia",
      "userId": "17830731333114781815"
     },
     "user_tz": -60
    },
    "id": "O92KeM06pJqc",
    "outputId": "322d8266-f005-4b17-f18e-3d7046cba4b8"
   },
   "outputs": [],
   "source": [
    "# download the data\n",
    "!wget https://download.pytorch.org/tutorial/hymenoptera_data.zip\n",
    "!unzip hymenoptera_data.zip"
   ]
  },
  {
   "cell_type": "code",
   "execution_count": null,
   "metadata": {
    "executionInfo": {
     "elapsed": 215,
     "status": "ok",
     "timestamp": 1649002647361,
     "user": {
      "displayName": "Elvis Saravia",
      "userId": "17830731333114781815"
     },
     "user_tz": -60
    },
    "id": "var371SKtNyx"
   },
   "outputs": [],
   "source": [
    "# create data loaders\n",
    "\n",
    "data_dir = 'hymenoptera_data'\n",
    "\n",
    "# custom transformer to flatten the image tensors\n",
    "class ReshapeTransform:\n",
    "    def __init__(self, new_size):\n",
    "        self.new_size = new_size\n",
    "\n",
    "    def __call__(self, img):\n",
    "        result = torch.reshape(img, self.new_size)\n",
    "        return result\n",
    "\n",
    "# transformations used to standardize and normalize the datasets\n",
    "data_transforms = {\n",
    "    'train': transforms.Compose([\n",
    "        transforms.Resize(224),\n",
    "        transforms.CenterCrop(224),\n",
    "        transforms.ToTensor(),\n",
    "        ReshapeTransform((-1,)) # flattens the data\n",
    "    ]),\n",
    "    'val': transforms.Compose([\n",
    "        transforms.Resize(224),\n",
    "        transforms.CenterCrop(224),\n",
    "        transforms.ToTensor(),\n",
    "        ReshapeTransform((-1,)) # flattens the data\n",
    "    ]),\n",
    "}\n",
    "\n",
    "# load the correspoding folders\n",
    "image_datasets = {x: datasets.ImageFolder(os.path.join(data_dir, x),\n",
    "                                          data_transforms[x])\n",
    "                  for x in ['train', 'val']}\n",
    "\n",
    "# load the entire dataset; we are not using minibatches here\n",
    "train_dataset = torch.utils.data.DataLoader(image_datasets['train'],\n",
    "                                            batch_size=len(image_datasets['train']),\n",
    "                                            shuffle=True)\n",
    "\n",
    "test_dataset = torch.utils.data.DataLoader(image_datasets['val'],\n",
    "                                           batch_size=len(image_datasets['val']),\n",
    "                                           shuffle=True)"
   ]
  },
  {
   "cell_type": "code",
   "execution_count": null,
   "metadata": {
    "executionInfo": {
     "elapsed": 231,
     "status": "ok",
     "timestamp": 1649003350883,
     "user": {
      "displayName": "Elvis Saravia",
      "userId": "17830731333114781815"
     },
     "user_tz": -60
    },
    "id": "gc9G-ZTRulDD"
   },
   "outputs": [],
   "source": [
    "# build the LR model\n",
    "class LR(nn.Module):\n",
    "    def __init__(self, dim):\n",
    "        super(LR, self).__init__()\n",
    "        self.linear = nn.Linear(dim, 1)\n",
    "        nn.init.zeros_(self.linear.weight)\n",
    "        nn.init.zeros_(self.linear.bias)\n",
    "\n",
    "    def forward(self, x):\n",
    "        x = self.linear(x)\n",
    "        x = torch.sigmoid(x)\n",
    "        return x "
   ]
  },
  {
   "cell_type": "code",
   "execution_count": null,
   "metadata": {
    "executionInfo": {
     "elapsed": 310,
     "status": "ok",
     "timestamp": 1649005262462,
     "user": {
      "displayName": "Elvis Saravia",
      "userId": "17830731333114781815"
     },
     "user_tz": -60
    },
    "id": "WfSUxBpL6BV1"
   },
   "outputs": [],
   "source": [
    "# predict function\n",
    "def predict(yhat, y):\n",
    "    yhat = yhat.squeeze()\n",
    "    y = y.unsqueeze(0) \n",
    "    y_prediction = torch.zeros(y.size()[1])\n",
    "    for i in range(yhat.shape[0]):\n",
    "        if yhat[i] <= 0.5:\n",
    "            y_prediction[i] = 0\n",
    "        else:\n",
    "            y_prediction[i] = 1\n",
    "    return 100 - torch.mean(torch.abs(y_prediction - y)) * 100"
   ]
  },
  {
   "cell_type": "code",
   "execution_count": null,
   "metadata": {
    "executionInfo": {
     "elapsed": 243,
     "status": "ok",
     "timestamp": 1649005263459,
     "user": {
      "displayName": "Elvis Saravia",
      "userId": "17830731333114781815"
     },
     "user_tz": -60
    },
    "id": "LL5DrdjqxI7m"
   },
   "outputs": [],
   "source": [
    "# model config\n",
    "dim = train_dataset.dataset[0][0].shape[0]\n",
    "\n",
    "lrmodel = LR(dim).to(device)\n",
    "criterion = nn.BCELoss()\n",
    "optimizer = torch.optim.SGD(lrmodel.parameters(), lr=0.0001)"
   ]
  },
  {
   "cell_type": "code",
   "execution_count": null,
   "metadata": {
    "colab": {
     "base_uri": "https://localhost:8080/"
    },
    "executionInfo": {
     "elapsed": 459826,
     "status": "ok",
     "timestamp": 1649005920994,
     "user": {
      "displayName": "Elvis Saravia",
      "userId": "17830731333114781815"
     },
     "user_tz": -60
    },
    "id": "i3s0mxFq6LJ6",
    "outputId": "66126bae-bd85-46d2-b6e4-74f7e332b469",
    "tags": [
     "same_step_1"
    ]
   },
   "outputs": [],
   "source": [
    "# training the model\n",
    "costs = []\n",
    "\n",
    "for ITER in range(200):\n",
    "    lrmodel.train()\n",
    "    x, y = next(iter(train_dataset))\n",
    "    test_x, test_y = next(iter(test_dataset))\n",
    "\n",
    "    # forward\n",
    "    yhat = lrmodel.forward(x.to(device))\n",
    "\n",
    "    cost = criterion(yhat.squeeze(), y.type(torch.FloatTensor))\n",
    "    train_pred = predict(yhat, y)\n",
    "\n",
    "    # backward\n",
    "    optimizer.zero_grad()\n",
    "    cost.backward()\n",
    "    optimizer.step()\n",
    "    \n",
    "    # evaluate\n",
    "    lrmodel.eval()\n",
    "    with torch.no_grad():\n",
    "        yhat_test = lrmodel.forward(test_x.to(device))\n",
    "        test_pred = predict(yhat_test, test_y)\n",
    "\n",
    "    if ITER % 10 == 0:\n",
    "        costs.append(cost)\n",
    "\n",
    "    if ITER % 10 == 0:\n",
    "        print(\"Cost after iteration {}: {} | Train Acc: {} | Test Acc: {}\".format(ITER, \n",
    "                                                                                    cost, \n",
    "                                                                                    train_pred,\n",
    "                                                                                    test_pred))\n",
    "   "
   ]
  },
  {
   "cell_type": "markdown",
   "metadata": {
    "id": "W0Q8WUq9opWB"
   },
   "source": [
    "### References\n",
    "- [A Logistic Regression Model from Scratch](https://colab.research.google.com/drive/1iBoJ0kngkOthy7SgVaVQA1aHEROt5mra?usp=sharing)"
   ]
  }
 ],
 "metadata": {
  "celltoolbar": "Tags",
  "colab": {
   "authorship_tag": "ABX9TyONg4lgtWNFTheSX5mwYI01",
   "name": "Concise Logistic Regression.ipynb",
   "provenance": []
  },
  "kernelspec": {
   "display_name": "Python 3 (ipykernel)",
   "language": "python",
   "name": "python3"
  },
  "language_info": {
   "codemirror_mode": {
    "name": "ipython",
    "version": 3
   },
   "file_extension": ".py",
   "mimetype": "text/x-python",
   "name": "python",
   "nbconvert_exporter": "python",
   "pygments_lexer": "ipython3",
   "version": "3.10.2"
  }
 },
 "nbformat": 4,
 "nbformat_minor": 1
}
