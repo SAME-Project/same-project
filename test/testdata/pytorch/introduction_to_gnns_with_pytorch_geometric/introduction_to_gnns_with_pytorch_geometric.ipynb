{
 "cells": [
  {
   "cell_type": "markdown",
   "metadata": {
    "id": "sjX6CPJFA52R"
   },
   "source": [
    "## Introduction to GNNs with PyTorch Geometric\n",
    "\n",
    "In this short notebook, the goal is to provide a introductory guide to get started with Graph Neural Networks using the popular library called [PyTorch Geometric](https://pytorch-geometric.readthedocs.io/en/latest/index.html). PyTorch Geometric is a PyTorch based libary hence we will be using PyTorch in this tutorial. \n",
    "\n",
    "The code used in this tutorial has been adapted from their official [examples](https://pytorch-geometric.readthedocs.io/en/latest/notes/introduction.html). I have incorporated a bit more beginner-friendly guidance and kept it minimal."
   ]
  },
  {
   "cell_type": "code",
   "execution_count": null,
   "metadata": {
    "colab": {
     "base_uri": "https://localhost:8080/"
    },
    "executionInfo": {
     "elapsed": 10442,
     "status": "ok",
     "timestamp": 1644908620206,
     "user": {
      "displayName": "Elvis Saravia",
      "photoUrl": "https://lh3.googleusercontent.com/a-/AOh14GiTi7tezOub7Nu1UZaXiU_QJmuiBMCsnwzwckBC7A=s64",
      "userId": "17830731333114781815"
     },
     "user_tz": 0
    },
    "id": "mwTz9zaHC7YA",
    "outputId": "ce24d6a4-907f-4094-eb98-bc6ea0520e34"
   },
   "outputs": [],
   "source": [
    "# Find the CUDA version PyTorch was installed with\n",
    "!python -c \"import torch; print(torch.version.cuda)\""
   ]
  },
  {
   "cell_type": "code",
   "execution_count": null,
   "metadata": {
    "colab": {
     "base_uri": "https://localhost:8080/"
    },
    "executionInfo": {
     "elapsed": 3307,
     "status": "ok",
     "timestamp": 1644908623508,
     "user": {
      "displayName": "Elvis Saravia",
      "photoUrl": "https://lh3.googleusercontent.com/a-/AOh14GiTi7tezOub7Nu1UZaXiU_QJmuiBMCsnwzwckBC7A=s64",
      "userId": "17830731333114781815"
     },
     "user_tz": 0
    },
    "id": "2jo0YpV0DLDW",
    "outputId": "238637c0-e60b-42fc-e7de-86f47f39ec4f"
   },
   "outputs": [],
   "source": [
    "# PyTorch version\n",
    "!python -c \"import torch; print(torch.__version__)\""
   ]
  },
  {
   "cell_type": "markdown",
   "metadata": {
    "id": "P-VLTfxzEmLu"
   },
   "source": [
    "Install the follow packages but make sure to install the right version below. Find more instructions [here](https://pytorch-geometric.readthedocs.io/en/latest/notes/installation.html) if you get lost. "
   ]
  },
  {
   "cell_type": "code",
   "execution_count": null,
   "metadata": {
    "colab": {
     "base_uri": "https://localhost:8080/"
    },
    "executionInfo": {
     "elapsed": 5809,
     "status": "ok",
     "timestamp": 1644908629305,
     "user": {
      "displayName": "Elvis Saravia",
      "photoUrl": "https://lh3.googleusercontent.com/a-/AOh14GiTi7tezOub7Nu1UZaXiU_QJmuiBMCsnwzwckBC7A=s64",
      "userId": "17830731333114781815"
     },
     "user_tz": 0
    },
    "id": "fLbSOIkaDRe4",
    "outputId": "b196161e-d1bf-4595-ccaa-49747f3ec00c"
   },
   "outputs": [],
   "source": [
    "!pip install torch-scatter -f https://data.pyg.org/whl/torch-1.10.0+cu111.html"
   ]
  },
  {
   "cell_type": "code",
   "execution_count": null,
   "metadata": {
    "colab": {
     "base_uri": "https://localhost:8080/"
    },
    "executionInfo": {
     "elapsed": 5733,
     "status": "ok",
     "timestamp": 1644908635031,
     "user": {
      "displayName": "Elvis Saravia",
      "photoUrl": "https://lh3.googleusercontent.com/a-/AOh14GiTi7tezOub7Nu1UZaXiU_QJmuiBMCsnwzwckBC7A=s64",
      "userId": "17830731333114781815"
     },
     "user_tz": 0
    },
    "id": "Q-wRLXE_DkZF",
    "outputId": "cb249940-3c85-4572-eb41-3d3ef2a5407d"
   },
   "outputs": [],
   "source": [
    "!pip install torch-sparse -f https://data.pyg.org/whl/torch-1.10.0+cu111.html"
   ]
  },
  {
   "cell_type": "code",
   "execution_count": null,
   "metadata": {
    "colab": {
     "base_uri": "https://localhost:8080/"
    },
    "executionInfo": {
     "elapsed": 12028,
     "status": "ok",
     "timestamp": 1644908647055,
     "user": {
      "displayName": "Elvis Saravia",
      "photoUrl": "https://lh3.googleusercontent.com/a-/AOh14GiTi7tezOub7Nu1UZaXiU_QJmuiBMCsnwzwckBC7A=s64",
      "userId": "17830731333114781815"
     },
     "user_tz": 0
    },
    "id": "lAobCDu6Dppo",
    "outputId": "d7675ad2-6b5f-4162-caa8-13fa658d1793"
   },
   "outputs": [],
   "source": [
    "!pip install torch-geometric"
   ]
  },
  {
   "cell_type": "markdown",
   "metadata": {
    "id": "GNfiSdoUFaoF"
   },
   "source": [
    "## Getting Started"
   ]
  },
  {
   "cell_type": "markdown",
   "metadata": {
    "id": "D6LCvEr7CGF9"
   },
   "source": [
    "Import PyTorch"
   ]
  },
  {
   "cell_type": "code",
   "execution_count": null,
   "metadata": {
    "colab": {
     "base_uri": "https://localhost:8080/"
    },
    "executionInfo": {
     "elapsed": 1235,
     "status": "ok",
     "timestamp": 1644908648274,
     "user": {
      "displayName": "Elvis Saravia",
      "photoUrl": "https://lh3.googleusercontent.com/a-/AOh14GiTi7tezOub7Nu1UZaXiU_QJmuiBMCsnwzwckBC7A=s64",
      "userId": "17830731333114781815"
     },
     "user_tz": 0
    },
    "id": "pqrlyFN1AtXI",
    "outputId": "850011fd-9eb1-4afc-8ba2-1416f4801c05"
   },
   "outputs": [],
   "source": [
    "import torch\n",
    "\n",
    "# print torch version\n",
    "print(torch.__version__)"
   ]
  },
  {
   "cell_type": "markdown",
   "metadata": {
    "id": "V0xfcmMfCFIH"
   },
   "source": [
    "The great thing about PyTorch Geometric is that it contain useful functionalities to import and load graph related data. "
   ]
  },
  {
   "cell_type": "code",
   "execution_count": null,
   "metadata": {
    "executionInfo": {
     "elapsed": 681,
     "status": "ok",
     "timestamp": 1644908648952,
     "user": {
      "displayName": "Elvis Saravia",
      "photoUrl": "https://lh3.googleusercontent.com/a-/AOh14GiTi7tezOub7Nu1UZaXiU_QJmuiBMCsnwzwckBC7A=s64",
      "userId": "17830731333114781815"
     },
     "user_tz": 0
    },
    "id": "gfIc5j5YB2_a"
   },
   "outputs": [],
   "source": [
    "from torch_geometric.data import Data"
   ]
  },
  {
   "cell_type": "markdown",
   "metadata": {
    "id": "4wuBs1NHEFqn"
   },
   "source": [
    "Now let's create an unweighted and undirected graph with three nodes and four total edges."
   ]
  },
  {
   "cell_type": "code",
   "execution_count": null,
   "metadata": {
    "colab": {
     "base_uri": "https://localhost:8080/"
    },
    "executionInfo": {
     "elapsed": 15,
     "status": "ok",
     "timestamp": 1644908649194,
     "user": {
      "displayName": "Elvis Saravia",
      "photoUrl": "https://lh3.googleusercontent.com/a-/AOh14GiTi7tezOub7Nu1UZaXiU_QJmuiBMCsnwzwckBC7A=s64",
      "userId": "17830731333114781815"
     },
     "user_tz": 0
    },
    "id": "-nLnUIObCTjK",
    "outputId": "e4ac0c52-5b42-40be-8f35-091f04fd7a9c"
   },
   "outputs": [],
   "source": [
    "# define edge list\n",
    "edge_index = torch.tensor([[0, 1, 1, 2], [1, 0, 2, 1]], dtype=torch.long)\n",
    "\n",
    "# define node features\n",
    "x = torch.tensor([[-1], [0], [1]])\n",
    "\n",
    "# create graph data object\n",
    "data = Data(x=x, edge_index=edge_index)\n",
    "print(data)"
   ]
  },
  {
   "cell_type": "markdown",
   "metadata": {
    "id": "zV7bQ6tAEQ7H"
   },
   "source": [
    "Our data object `Data` has many useful utility functions to check the properties of the graph. "
   ]
  },
  {
   "cell_type": "code",
   "execution_count": null,
   "metadata": {
    "colab": {
     "base_uri": "https://localhost:8080/"
    },
    "executionInfo": {
     "elapsed": 15,
     "status": "ok",
     "timestamp": 1644908649195,
     "user": {
      "displayName": "Elvis Saravia",
      "photoUrl": "https://lh3.googleusercontent.com/a-/AOh14GiTi7tezOub7Nu1UZaXiU_QJmuiBMCsnwzwckBC7A=s64",
      "userId": "17830731333114781815"
     },
     "user_tz": 0
    },
    "id": "idbfqPzoEOPC",
    "outputId": "f22248ff-27e6-4cec-ec15-a0c2bbea463c"
   },
   "outputs": [],
   "source": [
    "# check number of edges of the graph\n",
    "print(data.num_edges)"
   ]
  },
  {
   "cell_type": "code",
   "execution_count": null,
   "metadata": {
    "colab": {
     "base_uri": "https://localhost:8080/"
    },
    "executionInfo": {
     "elapsed": 12,
     "status": "ok",
     "timestamp": 1644908649195,
     "user": {
      "displayName": "Elvis Saravia",
      "photoUrl": "https://lh3.googleusercontent.com/a-/AOh14GiTi7tezOub7Nu1UZaXiU_QJmuiBMCsnwzwckBC7A=s64",
      "userId": "17830731333114781815"
     },
     "user_tz": 0
    },
    "id": "r0lcSstME0MP",
    "outputId": "c88ad32a-22aa-4507-8824-ac9961cad74e"
   },
   "outputs": [],
   "source": [
    "# check number of nodes of the graph\n",
    "print(data.num_nodes)"
   ]
  },
  {
   "cell_type": "code",
   "execution_count": null,
   "metadata": {
    "colab": {
     "base_uri": "https://localhost:8080/"
    },
    "executionInfo": {
     "elapsed": 11,
     "status": "ok",
     "timestamp": 1644908649195,
     "user": {
      "displayName": "Elvis Saravia",
      "photoUrl": "https://lh3.googleusercontent.com/a-/AOh14GiTi7tezOub7Nu1UZaXiU_QJmuiBMCsnwzwckBC7A=s64",
      "userId": "17830731333114781815"
     },
     "user_tz": 0
    },
    "id": "yiegwHTyE2AO",
    "outputId": "182f22cc-0a52-48b8-d1b6-19c0d926a35f"
   },
   "outputs": [],
   "source": [
    "# check number of features of the graph\n",
    "print(data.num_features)"
   ]
  },
  {
   "cell_type": "code",
   "execution_count": null,
   "metadata": {
    "colab": {
     "base_uri": "https://localhost:8080/"
    },
    "executionInfo": {
     "elapsed": 10,
     "status": "ok",
     "timestamp": 1644908649196,
     "user": {
      "displayName": "Elvis Saravia",
      "photoUrl": "https://lh3.googleusercontent.com/a-/AOh14GiTi7tezOub7Nu1UZaXiU_QJmuiBMCsnwzwckBC7A=s64",
      "userId": "17830731333114781815"
     },
     "user_tz": 0
    },
    "id": "JNWjhaSeE3Yk",
    "outputId": "5a08aebe-a590-4a93-f58f-a0d45d70a2b2"
   },
   "outputs": [],
   "source": [
    "# check if graph is directed\n",
    "print(data.is_directed())"
   ]
  },
  {
   "cell_type": "markdown",
   "metadata": {
    "id": "HF-jGPyhFeO6"
   },
   "source": [
    "## Loading Data"
   ]
  },
  {
   "cell_type": "markdown",
   "metadata": {
    "id": "KBVX6mZfFBxE"
   },
   "source": [
    "Find more fun functions related to graph data [here](https://pytorch-geometric.readthedocs.io/en/latest/modules/data.html#torch_geometric.data.Data). "
   ]
  },
  {
   "cell_type": "markdown",
   "metadata": {
    "id": "LHvE23mwFJ-3"
   },
   "source": [
    "One of the cool things about the PyTorch Geometric library is that it contains out-of-the-box benchmark datasets that are ready to use and explore. A popular dataset is the Cora dataset that is used for supervised graph node classification. (We will talk about these applications in an upcoming tutorial but for now we will focus on the data itself).\n",
    "\n",
    "\"The Cora dataset consists of 2708 scientific publications classified into one of seven classes. The citation network consists of 5429 links. Each publication in the dataset is described by a 0/1-valued word vector indicating the absence/presence of the corresponding word from the dictionary. The dictionary consists of 1433 unique words.\" - [Papers with Code](https://paperswithcode.com/dataset/cora)."
   ]
  },
  {
   "cell_type": "markdown",
   "metadata": {
    "id": "_8ganBm_FiaQ"
   },
   "source": [
    "Let's load the Cora dataset:"
   ]
  },
  {
   "cell_type": "code",
   "execution_count": null,
   "metadata": {
    "colab": {
     "base_uri": "https://localhost:8080/"
    },
    "executionInfo": {
     "elapsed": 2520,
     "status": "ok",
     "timestamp": 1644908651707,
     "user": {
      "displayName": "Elvis Saravia",
      "photoUrl": "https://lh3.googleusercontent.com/a-/AOh14GiTi7tezOub7Nu1UZaXiU_QJmuiBMCsnwzwckBC7A=s64",
      "userId": "17830731333114781815"
     },
     "user_tz": 0
    },
    "id": "K3bXwOpoE75M",
    "outputId": "ede1ca54-0336-4642-c82f-c1b9c7ed5f3b"
   },
   "outputs": [],
   "source": [
    "from torch_geometric.datasets import Planetoid\n",
    "\n",
    "dataset = Planetoid(root='tmp/Cora', name='Cora')"
   ]
  },
  {
   "cell_type": "markdown",
   "metadata": {
    "id": "rQTFnBcuFpLv"
   },
   "source": [
    "Let's check some of the properties of the Cora dataset."
   ]
  },
  {
   "cell_type": "code",
   "execution_count": null,
   "metadata": {
    "colab": {
     "base_uri": "https://localhost:8080/"
    },
    "executionInfo": {
     "elapsed": 340,
     "status": "ok",
     "timestamp": 1644908652038,
     "user": {
      "displayName": "Elvis Saravia",
      "photoUrl": "https://lh3.googleusercontent.com/a-/AOh14GiTi7tezOub7Nu1UZaXiU_QJmuiBMCsnwzwckBC7A=s64",
      "userId": "17830731333114781815"
     },
     "user_tz": 0
    },
    "id": "q9jvXbRXFlGG",
    "outputId": "5d22903d-65dd-4e67-b5d4-ccfe682c1157"
   },
   "outputs": [],
   "source": [
    "# number of graphs\n",
    "print(\"Number of graphs: \", len(dataset))\n",
    "\n",
    "# number of features\n",
    "print(\"Number of features: \", dataset.num_features)\n",
    "\n",
    "# number of classes\n",
    "print(\"Number of classes: \", dataset.num_classes)"
   ]
  },
  {
   "cell_type": "markdown",
   "metadata": {
    "id": "57SX-idAF02R"
   },
   "source": [
    "We can see that this particular graph dataset only contains one graph. Graph data can be very complex and can include multiple graphs depending on the type of data and application. Let's check more feature of the Cora dataset:"
   ]
  },
  {
   "cell_type": "code",
   "execution_count": null,
   "metadata": {
    "colab": {
     "base_uri": "https://localhost:8080/"
    },
    "executionInfo": {
     "elapsed": 23,
     "status": "ok",
     "timestamp": 1644908652039,
     "user": {
      "displayName": "Elvis Saravia",
      "photoUrl": "https://lh3.googleusercontent.com/a-/AOh14GiTi7tezOub7Nu1UZaXiU_QJmuiBMCsnwzwckBC7A=s64",
      "userId": "17830731333114781815"
     },
     "user_tz": 0
    },
    "id": "8aOt8HwfFrH_",
    "outputId": "b7043e70-aafe-4b7d-c877-83feed65c12b"
   },
   "outputs": [],
   "source": [
    "# select the first graph\n",
    "data = dataset[0]\n",
    "\n",
    "# number of nodes\n",
    "print(\"Number of nodes: \", data.num_nodes)\n",
    "\n",
    "# number of edges\n",
    "print(\"Number of edges: \", data.num_edges)\n",
    "\n",
    "# check if directed\n",
    "print(\"Is directed: \", data.is_directed())"
   ]
  },
  {
   "cell_type": "markdown",
   "metadata": {
    "id": "3XX2MRY4GEQS"
   },
   "source": [
    "You can sample nodes from the graph this way:"
   ]
  },
  {
   "cell_type": "code",
   "execution_count": null,
   "metadata": {
    "colab": {
     "base_uri": "https://localhost:8080/"
    },
    "executionInfo": {
     "elapsed": 21,
     "status": "ok",
     "timestamp": 1644908652039,
     "user": {
      "displayName": "Elvis Saravia",
      "photoUrl": "https://lh3.googleusercontent.com/a-/AOh14GiTi7tezOub7Nu1UZaXiU_QJmuiBMCsnwzwckBC7A=s64",
      "userId": "17830731333114781815"
     },
     "user_tz": 0
    },
    "id": "qGJKbv-4GAtY",
    "outputId": "8c2a45dc-0b4d-4027-b252-5e48ef787cd6"
   },
   "outputs": [],
   "source": [
    "# sample nodes from the graph\n",
    "print(\"Shape of sample nodes: \", data.x[:5].shape)"
   ]
  },
  {
   "cell_type": "markdown",
   "metadata": {
    "id": "wV1yBQSvGM9q"
   },
   "source": [
    "We extracted 5 nodes from the graph and checked its shape. You will see that each node has `1433` features."
   ]
  },
  {
   "cell_type": "markdown",
   "metadata": {
    "id": "oXMY2lU0GWQL"
   },
   "source": [
    "Another great advantage of using PyTorch Geometric to load the Cora data is that it comes pre-processed and ready to use. It also has the splits for training, validation and test which we can directly use for training a GNN.\n",
    "\n",
    "Let's check some stats for the partitions of the data:"
   ]
  },
  {
   "cell_type": "code",
   "execution_count": null,
   "metadata": {
    "colab": {
     "base_uri": "https://localhost:8080/"
    },
    "executionInfo": {
     "elapsed": 20,
     "status": "ok",
     "timestamp": 1644908652040,
     "user": {
      "displayName": "Elvis Saravia",
      "photoUrl": "https://lh3.googleusercontent.com/a-/AOh14GiTi7tezOub7Nu1UZaXiU_QJmuiBMCsnwzwckBC7A=s64",
      "userId": "17830731333114781815"
     },
     "user_tz": 0
    },
    "id": "MzITbLkpGIUP",
    "outputId": "7a95cc3c-67dc-4050-e22a-556928cefae8"
   },
   "outputs": [],
   "source": [
    "# check training nodes\n",
    "print(\"# of nodes to train on: \", data.train_mask.sum().item())\n",
    "\n",
    "# check test nodes\n",
    "print(\"# of nodes to test on: \", data.test_mask.sum().item())\n",
    "\n",
    "# check validation nodes\n",
    "print(\"# of nodes to validate on: \", data.val_mask.sum().item())"
   ]
  },
  {
   "cell_type": "markdown",
   "metadata": {
    "id": "7IGOoSfwHjeD"
   },
   "source": [
    "That information is important as it will indicate to our model which nodes to train against and which to test against, and so on.\n",
    "\n",
    "When training neural networks we train them using batches of data. PyTorch Geometric provides efficient processes to load batches of data.\n",
    "\n",
    "PyTorch Geometric contains a data loader which is a very popular feature in PyTorch to efficiently load data when training neural networks. "
   ]
  },
  {
   "cell_type": "markdown",
   "metadata": {
    "id": "_SUZUnXzH1zN"
   },
   "source": [
    "So let's try to load the data using the built in `DataLoader`:"
   ]
  },
  {
   "cell_type": "code",
   "execution_count": null,
   "metadata": {
    "executionInfo": {
     "elapsed": 18,
     "status": "ok",
     "timestamp": 1644908652040,
     "user": {
      "displayName": "Elvis Saravia",
      "photoUrl": "https://lh3.googleusercontent.com/a-/AOh14GiTi7tezOub7Nu1UZaXiU_QJmuiBMCsnwzwckBC7A=s64",
      "userId": "17830731333114781815"
     },
     "user_tz": 0
    },
    "id": "9tdHl4oZGw_y"
   },
   "outputs": [],
   "source": [
    "from torch_geometric.datasets import Planetoid\n",
    "from torch_geometric.loader import DataLoader\n",
    "device = torch.device('cuda' if torch.cuda.is_available() else 'cpu')"
   ]
  },
  {
   "cell_type": "code",
   "execution_count": null,
   "metadata": {
    "colab": {
     "base_uri": "https://localhost:8080/"
    },
    "executionInfo": {
     "elapsed": 19,
     "status": "ok",
     "timestamp": 1644908652041,
     "user": {
      "displayName": "Elvis Saravia",
      "photoUrl": "https://lh3.googleusercontent.com/a-/AOh14GiTi7tezOub7Nu1UZaXiU_QJmuiBMCsnwzwckBC7A=s64",
      "userId": "17830731333114781815"
     },
     "user_tz": 0
    },
    "id": "xtJAp4QqIMWw",
    "outputId": "8df69cee-89ab-441b-9526-6029b41b6bb8"
   },
   "outputs": [],
   "source": [
    "print(device)"
   ]
  },
  {
   "cell_type": "code",
   "execution_count": null,
   "metadata": {
    "executionInfo": {
     "elapsed": 17,
     "status": "ok",
     "timestamp": 1644908652041,
     "user": {
      "displayName": "Elvis Saravia",
      "photoUrl": "https://lh3.googleusercontent.com/a-/AOh14GiTi7tezOub7Nu1UZaXiU_QJmuiBMCsnwzwckBC7A=s64",
      "userId": "17830731333114781815"
     },
     "user_tz": 0
    },
    "id": "06xbeTJcH8C-"
   },
   "outputs": [],
   "source": [
    "dataset = Planetoid(root='tmp/Cora', name='Cora')\n",
    "data = dataset[0].to(device)"
   ]
  },
  {
   "cell_type": "markdown",
   "metadata": {
    "id": "8MH0lQsYIV0V"
   },
   "source": [
    "Print some quick statistics about the data:"
   ]
  },
  {
   "cell_type": "code",
   "execution_count": null,
   "metadata": {
    "colab": {
     "base_uri": "https://localhost:8080/"
    },
    "executionInfo": {
     "elapsed": 18,
     "status": "ok",
     "timestamp": 1644908652042,
     "user": {
      "displayName": "Elvis Saravia",
      "photoUrl": "https://lh3.googleusercontent.com/a-/AOh14GiTi7tezOub7Nu1UZaXiU_QJmuiBMCsnwzwckBC7A=s64",
      "userId": "17830731333114781815"
     },
     "user_tz": 0
    },
    "id": "gK7-K6uYH_Iu",
    "outputId": "0613a450-caf0-4137-c00f-a45ed8db412f"
   },
   "outputs": [],
   "source": [
    "print(\"X shape: \", data.x.shape)\n",
    "print(\"Edge shape: \", data.edge_index.shape)\n",
    "print(\"Y shape: \", data.y.shape)"
   ]
  },
  {
   "cell_type": "markdown",
   "metadata": {
    "id": "TUGNxhBOIuYe",
    "tags": [
     "same_step_1"
    ]
   },
   "source": [
    "## Model and Training"
   ]
  },
  {
   "cell_type": "markdown",
   "metadata": {
    "id": "v1pz24blIwnR"
   },
   "source": [
    "Finally, let's define a standard GCN to train on the Cora dataset. The aim is to train a model that gets better at predicting the class of the node."
   ]
  },
  {
   "cell_type": "markdown",
   "metadata": {
    "id": "dhdMehneI2bn"
   },
   "source": [
    "To keep thins simple we will use the same model definition as used in the [tutorial](https://pytorch-geometric.readthedocs.io/en/latest/notes/introduction.html) we adpated the code from. Note that we are using the built-in `GCNConv` model but you could easily implement your own (something we will cover in a future tutorial). \n",
    "\n",
    "The model below uses two `GCNConv` layers. The first layer is followed by a non-linearity `ReLU` and `Dropout`. The result is fed to the second layer on top of which we apply `Softmax` to get distribution over the number of classes."
   ]
  },
  {
   "cell_type": "code",
   "execution_count": null,
   "metadata": {
    "executionInfo": {
     "elapsed": 237,
     "status": "ok",
     "timestamp": 1644908652263,
     "user": {
      "displayName": "Elvis Saravia",
      "photoUrl": "https://lh3.googleusercontent.com/a-/AOh14GiTi7tezOub7Nu1UZaXiU_QJmuiBMCsnwzwckBC7A=s64",
      "userId": "17830731333114781815"
     },
     "user_tz": 0
    },
    "id": "q0AiwyWrJGhj"
   },
   "outputs": [],
   "source": [
    "import torch.nn.functional as F\n",
    "from torch_geometric.nn import GCNConv\n",
    "\n",
    "class GCN(torch.nn.Module):\n",
    "    def __init__(self):\n",
    "        super().__init__()\n",
    "        \"\"\" GCNConv layers \"\"\"\n",
    "        self.conv1 = GCNConv(data.num_features, 16)\n",
    "        self.conv2 = GCNConv(16, dataset.num_classes)\n",
    "\n",
    "    def forward(self, data):\n",
    "        x, edge_index = data.x, data.edge_index\n",
    "        x = self.conv1(x, edge_index)\n",
    "        x = F.relu(x)\n",
    "        x = F.dropout(x, training=self.training)\n",
    "        x = self.conv2(x, edge_index)\n",
    "\n",
    "        return F.log_softmax(x, dim=1)"
   ]
  },
  {
   "cell_type": "markdown",
   "metadata": {
    "id": "Mfob8LS2KezY"
   },
   "source": [
    "Initial model and optimizer"
   ]
  },
  {
   "cell_type": "code",
   "execution_count": null,
   "metadata": {
    "executionInfo": {
     "elapsed": 4,
     "status": "ok",
     "timestamp": 1644908652263,
     "user": {
      "displayName": "Elvis Saravia",
      "photoUrl": "https://lh3.googleusercontent.com/a-/AOh14GiTi7tezOub7Nu1UZaXiU_QJmuiBMCsnwzwckBC7A=s64",
      "userId": "17830731333114781815"
     },
     "user_tz": 0
    },
    "id": "GSZL4HS5Kd55"
   },
   "outputs": [],
   "source": [
    "model = GCN().to(device)\n",
    "optimizer = torch.optim.Adam(model.parameters(), lr=0.01, weight_decay=5e-4)"
   ]
  },
  {
   "cell_type": "markdown",
   "metadata": {
    "id": "qpgxKMhmKitV"
   },
   "source": [
    "Define axcuracy function for evaluating performance:"
   ]
  },
  {
   "cell_type": "code",
   "execution_count": null,
   "metadata": {
    "executionInfo": {
     "elapsed": 4,
     "status": "ok",
     "timestamp": 1644908652264,
     "user": {
      "displayName": "Elvis Saravia",
      "photoUrl": "https://lh3.googleusercontent.com/a-/AOh14GiTi7tezOub7Nu1UZaXiU_QJmuiBMCsnwzwckBC7A=s64",
      "userId": "17830731333114781815"
     },
     "user_tz": 0
    },
    "id": "abnE-XTmKl92"
   },
   "outputs": [],
   "source": [
    "# useful function for computing accuracy\n",
    "def compute_accuracy(pred_y, y):\n",
    "    return (pred_y == y).sum()"
   ]
  },
  {
   "cell_type": "markdown",
   "metadata": {
    "id": "26W7sxVsKrGM"
   },
   "source": [
    "And finally we train the model on the trainin nodes for 200 epochs:"
   ]
  },
  {
   "cell_type": "code",
   "execution_count": null,
   "metadata": {
    "colab": {
     "base_uri": "https://localhost:8080/"
    },
    "executionInfo": {
     "elapsed": 9360,
     "status": "ok",
     "timestamp": 1644908661620,
     "user": {
      "displayName": "Elvis Saravia",
      "photoUrl": "https://lh3.googleusercontent.com/a-/AOh14GiTi7tezOub7Nu1UZaXiU_QJmuiBMCsnwzwckBC7A=s64",
      "userId": "17830731333114781815"
     },
     "user_tz": 0
    },
    "id": "m39ZbE6RKyim",
    "outputId": "2e7a3a02-e654-4c11-9c50-d40eab4e6c45",
    "tags": [
     "same_step_2"
    ]
   },
   "outputs": [],
   "source": [
    "# train the model\n",
    "model.train()\n",
    "losses = []\n",
    "accuracies = []\n",
    "for epoch in range(200):\n",
    "    optimizer.zero_grad()\n",
    "    out = model(data)\n",
    "\n",
    "    loss = F.nll_loss(out[data.train_mask], data.y[data.train_mask])\n",
    "    correct = compute_accuracy(out.argmax(dim=1)[data.train_mask], data.y[data.train_mask])\n",
    "    acc = int(correct) / int(data.train_mask.sum())\n",
    "    losses.append(loss.item())\n",
    "    accuracies.append(acc)\n",
    "\n",
    "    loss.backward()\n",
    "    optimizer.step()\n",
    "    if (epoch+1) % 10 == 0:\n",
    "        print('Epoch: {}, Loss: {:.4f}, Training Acc: {:.4f}'.format(epoch+1, loss.item(), acc))\n"
   ]
  },
  {
   "cell_type": "code",
   "execution_count": null,
   "metadata": {
    "colab": {
     "base_uri": "https://localhost:8080/",
     "height": 265
    },
    "executionInfo": {
     "elapsed": 401,
     "status": "ok",
     "timestamp": 1644908662006,
     "user": {
      "displayName": "Elvis Saravia",
      "photoUrl": "https://lh3.googleusercontent.com/a-/AOh14GiTi7tezOub7Nu1UZaXiU_QJmuiBMCsnwzwckBC7A=s64",
      "userId": "17830731333114781815"
     },
     "user_tz": 0
    },
    "id": "bUtwTwemLJGs",
    "outputId": "d351364f-f04a-4a75-b3b3-80bd517fe569"
   },
   "outputs": [],
   "source": [
    "# plot the loss and accuracy\n",
    "import matplotlib.pyplot as plt\n",
    "plt.plot(losses)\n",
    "plt.plot(accuracies)\n",
    "plt.legend(['Loss', 'Accuracy'])\n",
    "plt.show()"
   ]
  },
  {
   "cell_type": "markdown",
   "metadata": {
    "id": "30cq1fmqK-my"
   },
   "source": [
    "It looks like the model achieves a very high accuracy and small loss on the training dataset. To see how well it generalizes, let's test on the testing nodes:"
   ]
  },
  {
   "cell_type": "code",
   "execution_count": null,
   "metadata": {
    "colab": {
     "base_uri": "https://localhost:8080/"
    },
    "executionInfo": {
     "elapsed": 14,
     "status": "ok",
     "timestamp": 1644908662006,
     "user": {
      "displayName": "Elvis Saravia",
      "photoUrl": "https://lh3.googleusercontent.com/a-/AOh14GiTi7tezOub7Nu1UZaXiU_QJmuiBMCsnwzwckBC7A=s64",
      "userId": "17830731333114781815"
     },
     "user_tz": 0
    },
    "id": "_6Q354OSLVkG",
    "outputId": "8a86891a-bd2f-4d43-cb4f-d4773c8b6f00",
    "tags": [
     "same_step_3"
    ]
   },
   "outputs": [],
   "source": [
    "# evaluate the model on test set\n",
    "model.eval()\n",
    "pred = model(data).argmax(dim=1)\n",
    "correct = compute_accuracy(pred[data.test_mask], data.y[data.test_mask])\n",
    "acc = int(correct) / int(data.test_mask.sum())\n",
    "print(f'Accuracy: {acc:.4f}')"
   ]
  },
  {
   "cell_type": "markdown",
   "metadata": {
    "id": "iwOLBEpgLW3p"
   },
   "source": [
    "Very cool! It seems we got a very nice accuracy for the test as well. Our model is doing okay. There are many ways you can go about trying to improve this model, but we will keep that for another time. Hopefully, with this tutorial you got a glimpse of graph data and how to use PyTorch Geometric to train GNNs on a very popular dataset. "
   ]
  },
  {
   "cell_type": "markdown",
   "metadata": {
    "id": "NapVlc1wH_1Y"
   },
   "source": [
    "Note that I haven't tested if this code works with GPUs. I will leave that as an exercise for the learner. "
   ]
  },
  {
   "cell_type": "markdown",
   "metadata": {
    "id": "ZtRNFO0mL2_b"
   },
   "source": [
    "If you are interested in the full tutorial and more examples, visit the [PyTorch Geomtric documentation](https://pytorch-geometric.readthedocs.io/en/latest/notes/introduction.html) where I adapted the code from. \n",
    "\n",
    "Feel free to reach out on [Twitter](https://twitter.com/omarsar0) if you have any further questions."
   ]
  }
 ],
 "metadata": {
  "celltoolbar": "Tags",
  "colab": {
   "authorship_tag": "ABX9TyPrZg7h7uaNYVhohpmsJltP",
   "name": "Introduction to GNNs with PyTorch Geometric.ipynb",
   "provenance": []
  },
  "kernelspec": {
   "display_name": "Python 3 (ipykernel)",
   "language": "python",
   "name": "python3"
  },
  "language_info": {
   "codemirror_mode": {
    "name": "ipython",
    "version": 3
   },
   "file_extension": ".py",
   "mimetype": "text/x-python",
   "name": "python",
   "nbconvert_exporter": "python",
   "pygments_lexer": "ipython3",
   "version": "3.10.2"
  }
 },
 "nbformat": 4,
 "nbformat_minor": 1
}
