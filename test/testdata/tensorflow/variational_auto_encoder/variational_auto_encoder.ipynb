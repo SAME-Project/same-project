{
 "cells": [
  {
   "cell_type": "markdown",
   "id": "niPUJQ0RA1L1",
   "metadata": {
    "id": "niPUJQ0RA1L1"
   },
   "source": [
    "<a href=\"https://www.kaggle.com/code/ritvik1909/variational-auto-encoder\" target=\"_blank\"><img align=\"left\" alt=\"Kaggle\" title=\"Open in Kaggle\" src=\"https://kaggle.com/static/images/open-in-kaggle.svg\"></a>"
   ]
  },
  {
   "cell_type": "markdown",
   "id": "600c8aa4",
   "metadata": {
    "id": "600c8aa4",
    "papermill": {
     "duration": 0.013959,
     "end_time": "2022-04-04T07:36:33.591181",
     "exception": false,
     "start_time": "2022-04-04T07:36:33.577222",
     "status": "completed"
    },
    "tags": []
   },
   "source": [
    "# Variational Auto Encoder (VAE) -MNIST Augmentation\n",
    "\n",
    "In this notebook we will be using a variational autoencoder to augment MNIST digit images\n",
    "\n",
    "Just as a standard autoencoder, a variational autoencoder is an architecture composed of both an encoder and a decoder and that is trained to minimise the reconstruction error between the encoded-decoded data and the initial data. However, in order to introduce some regularisation of the latent space, we proceed to a slight modification of the encoding-decoding process: instead of encoding an input as a single point, we encode it as a distribution over the latent space. The model is then trained as follows:\n",
    "* the input is encoded as distribution over the latent space\n",
    "* a point from the latent space is sampled from that distribution\n",
    "* the sampled point is decoded and the reconstruction error can be computed\n",
    "* the reconstruction error is backpropagated through the network\n",
    "\n",
    "source: [Understanding Variational Autoencoders (VAEs)](https://towardsdatascience.com/understanding-variational-autoencoders-vaes-f70510919f73)\n",
    "\n"
   ]
  },
  {
   "cell_type": "code",
   "execution_count": null,
   "id": "688a5fbc",
   "metadata": {
    "execution": {
     "iopub.execute_input": "2022-04-04T07:36:33.699712Z",
     "iopub.status.busy": "2022-04-04T07:36:33.699065Z",
     "iopub.status.idle": "2022-04-04T07:36:38.242810Z",
     "shell.execute_reply": "2022-04-04T07:36:38.243288Z",
     "shell.execute_reply.started": "2021-09-25T06:42:43.650057Z"
    },
    "executionInfo": {
     "elapsed": 2154,
     "status": "ok",
     "timestamp": 1649081135969,
     "user": {
      "displayName": "Ritvik Rastogi",
      "userId": "01504835329516909297"
     },
     "user_tz": -330
    },
    "id": "688a5fbc",
    "papermill": {
     "duration": 4.639601,
     "end_time": "2022-04-04T07:36:38.243582",
     "exception": false,
     "start_time": "2022-04-04T07:36:33.603981",
     "status": "completed"
    },
    "tags": []
   },
   "outputs": [],
   "source": [
    "import tensorflow as tf\n",
    "import tensorflow.keras as keras\n",
    "\n",
    "import numpy as np\n",
    "import pandas as pd\n",
    "import matplotlib.pyplot as plt\n",
    "from IPython import display\n",
    "from tqdm.auto import trange"
   ]
  },
  {
   "cell_type": "markdown",
   "id": "9d118c81",
   "metadata": {
    "id": "9d118c81",
    "papermill": {
     "duration": 0.012401,
     "end_time": "2022-04-04T07:36:38.269165",
     "exception": false,
     "start_time": "2022-04-04T07:36:38.256764",
     "status": "completed"
    },
    "tags": []
   },
   "source": [
    "## Utilities"
   ]
  },
  {
   "cell_type": "code",
   "execution_count": null,
   "id": "746613ed",
   "metadata": {
    "execution": {
     "iopub.execute_input": "2022-04-04T07:36:38.300097Z",
     "iopub.status.busy": "2022-04-04T07:36:38.299537Z",
     "iopub.status.idle": "2022-04-04T07:36:38.303142Z",
     "shell.execute_reply": "2022-04-04T07:36:38.302722Z",
     "shell.execute_reply.started": "2021-09-25T06:42:44.103824Z"
    },
    "executionInfo": {
     "elapsed": 8,
     "status": "ok",
     "timestamp": 1649081135970,
     "user": {
      "displayName": "Ritvik Rastogi",
      "userId": "01504835329516909297"
     },
     "user_tz": -330
    },
    "id": "746613ed",
    "papermill": {
     "duration": 0.021686,
     "end_time": "2022-04-04T07:36:38.303250",
     "exception": false,
     "start_time": "2022-04-04T07:36:38.281564",
     "status": "completed"
    },
    "tags": []
   },
   "outputs": [],
   "source": [
    "def plot_results(images, n_cols=None, title=None):\n",
    "    \n",
    "    n_cols = n_cols or len(images)\n",
    "    n_rows = (len(images) - 1) // n_cols + 1\n",
    "\n",
    "    if images.shape[-1] == 1:\n",
    "        images = np.squeeze(images, axis=-1)\n",
    "    \n",
    "    fig = plt.figure(figsize=(n_cols, n_rows))\n",
    "    \n",
    "    for index, image in enumerate(images):\n",
    "        plt.subplot(n_rows, n_cols, index + 1)\n",
    "        plt.imshow(image, cmap=\"binary\")\n",
    "        plt.axis(\"off\")\n",
    "        \n",
    "    plt.suptitle(title)"
   ]
  },
  {
   "cell_type": "code",
   "execution_count": null,
   "id": "4f1ba0ac",
   "metadata": {
    "execution": {
     "iopub.execute_input": "2022-04-04T07:36:38.332054Z",
     "iopub.status.busy": "2022-04-04T07:36:38.331410Z",
     "iopub.status.idle": "2022-04-04T07:36:38.333615Z",
     "shell.execute_reply": "2022-04-04T07:36:38.334005Z",
     "shell.execute_reply.started": "2021-09-25T06:42:44.37724Z"
    },
    "executionInfo": {
     "elapsed": 7,
     "status": "ok",
     "timestamp": 1649081135970,
     "user": {
      "displayName": "Ritvik Rastogi",
      "userId": "01504835329516909297"
     },
     "user_tz": -330
    },
    "id": "4f1ba0ac",
    "papermill": {
     "duration": 0.018329,
     "end_time": "2022-04-04T07:36:38.334128",
     "exception": false,
     "start_time": "2022-04-04T07:36:38.315799",
     "status": "completed"
    },
    "tags": []
   },
   "outputs": [],
   "source": [
    "BATCH_SIZE = 128\n",
    "CODINGS_SIZE = 32\n",
    "N_EPOCHS = 150"
   ]
  },
  {
   "cell_type": "markdown",
   "id": "42e3c009",
   "metadata": {
    "id": "42e3c009",
    "papermill": {
     "duration": 0.012283,
     "end_time": "2022-04-04T07:36:38.358803",
     "exception": false,
     "start_time": "2022-04-04T07:36:38.346520",
     "status": "completed"
    },
    "tags": []
   },
   "source": [
    "# Prepare the Dataset\n",
    "\n",
    "Utility functions to create `tf.data.Dataset` objects for the images of a particular class (digit)"
   ]
  },
  {
   "cell_type": "code",
   "execution_count": null,
   "id": "149053b3",
   "metadata": {
    "execution": {
     "iopub.execute_input": "2022-04-04T07:36:38.392333Z",
     "iopub.status.busy": "2022-04-04T07:36:38.391583Z",
     "iopub.status.idle": "2022-04-04T07:36:38.393585Z",
     "shell.execute_reply": "2022-04-04T07:36:38.393978Z",
     "shell.execute_reply.started": "2021-09-25T06:42:45.167174Z"
    },
    "executionInfo": {
     "elapsed": 8,
     "status": "ok",
     "timestamp": 1649081135971,
     "user": {
      "displayName": "Ritvik Rastogi",
      "userId": "01504835329516909297"
     },
     "user_tz": -330
    },
    "id": "149053b3",
    "papermill": {
     "duration": 0.022775,
     "end_time": "2022-04-04T07:36:38.394099",
     "exception": false,
     "start_time": "2022-04-04T07:36:38.371324",
     "status": "completed"
    },
    "tags": []
   },
   "outputs": [],
   "source": [
    "def prepare_data(label, batch_size):\n",
    "    (X_train, y_train), (X_test, y_test) = keras.datasets.mnist.load_data()\n",
    "    X_all = np.concatenate([X_train, X_test])\n",
    "    y_all = np.concatenate([y_train, y_test])\n",
    "    \n",
    "    X_all = X_all.astype(np.float32) / 255\n",
    "    X_all = X_all.reshape(-1, 28, 28, 1)\n",
    "    X_train = X_all[np.where(y_all == label)]\n",
    "\n",
    "    dataset = tf.data.Dataset.from_tensor_slices(X_train)\n",
    "    dataset = dataset.shuffle(1024)\n",
    "    dataset = dataset.batch(BATCH_SIZE, drop_remainder=True).prefetch(1)\n",
    "    \n",
    "    return dataset\n",
    "\n",
    "def prepare_images(label):\n",
    "    (X_train, y_train), (X_test, y_test) = keras.datasets.mnist.load_data()\n",
    "    X_all = np.concatenate([X_train, X_test])\n",
    "    y_all = np.concatenate([y_train, y_test])\n",
    "    \n",
    "    X_all = X_all.astype(np.float32) / 255\n",
    "    X_all = X_all.reshape(-1, 28, 28, 1) * 2. - 1.\n",
    "    X_train = X_all[np.where(y_all == label)]\n",
    "    \n",
    "    return X_train"
   ]
  },
  {
   "cell_type": "markdown",
   "id": "879abfd7",
   "metadata": {
    "id": "879abfd7",
    "papermill": {
     "duration": 0.01206,
     "end_time": "2022-04-04T07:36:38.419840",
     "exception": false,
     "start_time": "2022-04-04T07:36:38.407780",
     "status": "completed"
    },
    "tags": [
     "same_step_1"
    ]
   },
   "source": [
    "# Build the Model\n",
    "\n",
    "Here we will define the componets we mentioned above\n",
    "* Sampling Layer, to draw a point from the distribution\n",
    "* Encoder, typically conssisting of Convolutional Layers and Max Pooling Layers\n",
    "* Decoder, typically consisting of Transposed Convolutional Layers and Upsampling Layers"
   ]
  },
  {
   "cell_type": "code",
   "execution_count": null,
   "id": "77cf8a27",
   "metadata": {
    "execution": {
     "iopub.execute_input": "2022-04-04T07:36:38.451188Z",
     "iopub.status.busy": "2022-04-04T07:36:38.450396Z",
     "iopub.status.idle": "2022-04-04T07:36:38.452732Z",
     "shell.execute_reply": "2022-04-04T07:36:38.452352Z",
     "shell.execute_reply.started": "2021-09-25T06:43:46.50485Z"
    },
    "executionInfo": {
     "elapsed": 6,
     "status": "ok",
     "timestamp": 1649081135971,
     "user": {
      "displayName": "Ritvik Rastogi",
      "userId": "01504835329516909297"
     },
     "user_tz": -330
    },
    "id": "77cf8a27",
    "papermill": {
     "duration": 0.020098,
     "end_time": "2022-04-04T07:36:38.452839",
     "exception": false,
     "start_time": "2022-04-04T07:36:38.432741",
     "status": "completed"
    },
    "tags": []
   },
   "outputs": [],
   "source": [
    "class Sampling(keras.layers.Layer):\n",
    "    \"\"\"Uses (z_mean, z_log_var) to sample z, the vector encoding a digit.\"\"\"\n",
    "\n",
    "    def call(self, inputs):\n",
    "        z_mean, z_log_var = inputs\n",
    "        batch = tf.shape(z_mean)[0]\n",
    "        dim = tf.shape(z_mean)[1]\n",
    "        epsilon = tf.keras.backend.random_normal(shape=(batch, dim))\n",
    "        return z_mean + tf.exp(0.5 * z_log_var) * epsilon"
   ]
  },
  {
   "cell_type": "code",
   "execution_count": null,
   "id": "818b3f5c",
   "metadata": {
    "execution": {
     "iopub.execute_input": "2022-04-04T07:36:38.480460Z",
     "iopub.status.busy": "2022-04-04T07:36:38.479658Z",
     "iopub.status.idle": "2022-04-04T07:36:38.486741Z",
     "shell.execute_reply": "2022-04-04T07:36:38.486228Z",
     "shell.execute_reply.started": "2021-09-25T06:43:51.79073Z"
    },
    "executionInfo": {
     "elapsed": 6,
     "status": "ok",
     "timestamp": 1649081135971,
     "user": {
      "displayName": "Ritvik Rastogi",
      "userId": "01504835329516909297"
     },
     "user_tz": -330
    },
    "id": "818b3f5c",
    "papermill": {
     "duration": 0.021769,
     "end_time": "2022-04-04T07:36:38.486853",
     "exception": false,
     "start_time": "2022-04-04T07:36:38.465084",
     "status": "completed"
    },
    "tags": []
   },
   "outputs": [],
   "source": [
    "def build_encoder():\n",
    "    encoder_inputs = keras.Input(shape=(28, 28, 1))\n",
    "    x = keras.layers.Conv2D(32, 3, activation=\"relu\", strides=2, padding=\"same\")(encoder_inputs)\n",
    "    x = keras.layers.Conv2D(64, 3, activation=\"relu\", strides=2, padding=\"same\")(x)\n",
    "    x = keras.layers.Flatten()(x)\n",
    "    x = keras.layers.Dense(16, activation=\"relu\")(x)\n",
    "    z_mean = keras.layers.Dense(CODINGS_SIZE, name=\"z_mean\")(x)\n",
    "    z_log_var = keras.layers.Dense(CODINGS_SIZE, name=\"z_log_var\")(x)\n",
    "    z = Sampling()([z_mean, z_log_var])\n",
    "    encoder = keras.Model(encoder_inputs, [z_mean, z_log_var, z], name=\"encoder\")\n",
    "    return encoder"
   ]
  },
  {
   "cell_type": "code",
   "execution_count": null,
   "id": "c4417a61",
   "metadata": {
    "execution": {
     "iopub.execute_input": "2022-04-04T07:36:38.518226Z",
     "iopub.status.busy": "2022-04-04T07:36:38.517500Z",
     "iopub.status.idle": "2022-04-04T07:36:38.519820Z",
     "shell.execute_reply": "2022-04-04T07:36:38.519438Z",
     "shell.execute_reply.started": "2021-09-25T06:43:52.083239Z"
    },
    "executionInfo": {
     "elapsed": 7,
     "status": "ok",
     "timestamp": 1649081135972,
     "user": {
      "displayName": "Ritvik Rastogi",
      "userId": "01504835329516909297"
     },
     "user_tz": -330
    },
    "id": "c4417a61",
    "papermill": {
     "duration": 0.020685,
     "end_time": "2022-04-04T07:36:38.519937",
     "exception": false,
     "start_time": "2022-04-04T07:36:38.499252",
     "status": "completed"
    },
    "tags": []
   },
   "outputs": [],
   "source": [
    "def build_decoder():\n",
    "    latent_inputs = keras.Input(shape=(CODINGS_SIZE,))\n",
    "    x = keras.layers.Dense(7 * 7 * 64, activation=\"relu\")(latent_inputs)\n",
    "    x = keras.layers.Reshape((7, 7, 64))(x)\n",
    "    x = keras.layers.Conv2DTranspose(64, 3, activation=\"relu\", strides=2, padding=\"same\")(x)\n",
    "    x = keras.layers.Conv2DTranspose(32, 3, activation=\"relu\", strides=2, padding=\"same\")(x)\n",
    "    decoder_outputs = keras.layers.Conv2DTranspose(1, 3, activation=\"sigmoid\", padding=\"same\")(x)\n",
    "    decoder = keras.Model(latent_inputs, decoder_outputs, name=\"decoder\")\n",
    "    return decoder"
   ]
  },
  {
   "cell_type": "markdown",
   "id": "4c28ece0",
   "metadata": {
    "id": "4c28ece0",
    "papermill": {
     "duration": 0.012051,
     "end_time": "2022-04-04T07:36:38.544652",
     "exception": false,
     "start_time": "2022-04-04T07:36:38.532601",
     "status": "completed"
    },
    "tags": []
   },
   "source": [
    "Lets define the training loop\n",
    "\n",
    "The loss function that is minimised when training a VAE is composed of a “reconstruction term” (on the final layer), that tends to make the encoding-decoding scheme as performant as possible, and a “regularisation term” (on the latent layer), that tends to regularise the organisation of the latent space by making the distributions returned by the encoder close to a standard normal distribution. That regularisation term is expressed as the Kulback-Leibler divergence between the returned distribution and a standard Gaussian"
   ]
  },
  {
   "cell_type": "code",
   "execution_count": null,
   "id": "febf3584",
   "metadata": {
    "execution": {
     "iopub.execute_input": "2022-04-04T07:36:38.580188Z",
     "iopub.status.busy": "2022-04-04T07:36:38.579442Z",
     "iopub.status.idle": "2022-04-04T07:36:38.581802Z",
     "shell.execute_reply": "2022-04-04T07:36:38.581392Z",
     "shell.execute_reply.started": "2021-09-25T06:43:52.489169Z"
    },
    "executionInfo": {
     "elapsed": 6,
     "status": "ok",
     "timestamp": 1649081135972,
     "user": {
      "displayName": "Ritvik Rastogi",
      "userId": "01504835329516909297"
     },
     "user_tz": -330
    },
    "id": "febf3584",
    "papermill": {
     "duration": 0.024682,
     "end_time": "2022-04-04T07:36:38.581899",
     "exception": false,
     "start_time": "2022-04-04T07:36:38.557217",
     "status": "completed"
    },
    "tags": []
   },
   "outputs": [],
   "source": [
    "class VAE(keras.Model):\n",
    "    def __init__(self, encoder, decoder, **kwargs):\n",
    "        super(VAE, self).__init__(**kwargs)\n",
    "        self.encoder = encoder\n",
    "        self.decoder = decoder\n",
    "        self.total_loss_tracker = keras.metrics.Mean(name=\"total_loss\")\n",
    "        self.reconstruction_loss_tracker = keras.metrics.Mean(\n",
    "            name=\"reconstruction_loss\"\n",
    "        )\n",
    "        self.kl_loss_tracker = keras.metrics.Mean(name=\"kl_loss\")\n",
    "\n",
    "    @property\n",
    "    def metrics(self):\n",
    "        return [\n",
    "            self.total_loss_tracker,\n",
    "            self.reconstruction_loss_tracker,\n",
    "            self.kl_loss_tracker,\n",
    "        ]\n",
    "\n",
    "    def train_step(self, data):\n",
    "        with tf.GradientTape() as tape:\n",
    "            z_mean, z_log_var, z = self.encoder(data)\n",
    "            reconstruction = self.decoder(z)\n",
    "            reconstruction_loss = tf.reduce_mean(\n",
    "                tf.reduce_sum(\n",
    "                    keras.losses.binary_crossentropy(data, reconstruction), axis=(1, 2)\n",
    "                )\n",
    "            )\n",
    "            kl_loss = -0.5 * (1 + z_log_var - tf.square(z_mean) - tf.exp(z_log_var))\n",
    "            kl_loss = tf.reduce_mean(tf.reduce_sum(kl_loss, axis=1))\n",
    "            total_loss = reconstruction_loss + kl_loss\n",
    "        grads = tape.gradient(total_loss, self.trainable_weights)\n",
    "        self.optimizer.apply_gradients(zip(grads, self.trainable_weights))\n",
    "        self.total_loss_tracker.update_state(total_loss)\n",
    "        self.reconstruction_loss_tracker.update_state(reconstruction_loss)\n",
    "        self.kl_loss_tracker.update_state(kl_loss)\n",
    "        return {\n",
    "            \"loss\": self.total_loss_tracker.result(),\n",
    "            \"reconstruction_loss\": self.reconstruction_loss_tracker.result(),\n",
    "            \"kl_loss\": self.kl_loss_tracker.result(),\n",
    "        }"
   ]
  },
  {
   "cell_type": "code",
   "execution_count": null,
   "id": "ebb69f33",
   "metadata": {
    "colab": {
     "base_uri": "https://localhost:8080/",
     "height": 1000
    },
    "execution": {
     "iopub.execute_input": "2022-04-04T07:36:38.613725Z",
     "iopub.status.busy": "2022-04-04T07:36:38.613225Z",
     "iopub.status.idle": "2022-04-04T07:36:42.103533Z",
     "shell.execute_reply": "2022-04-04T07:36:42.103948Z",
     "shell.execute_reply.started": "2021-09-25T06:44:04.426296Z"
    },
    "executionInfo": {
     "elapsed": 5148,
     "status": "ok",
     "timestamp": 1649081141114,
     "user": {
      "displayName": "Ritvik Rastogi",
      "userId": "01504835329516909297"
     },
     "user_tz": -330
    },
    "id": "ebb69f33",
    "outputId": "2f92f058-6887-486d-822c-afc1431519f2",
    "papermill": {
     "duration": 3.509715,
     "end_time": "2022-04-04T07:36:42.104094",
     "exception": false,
     "start_time": "2022-04-04T07:36:38.594379",
     "status": "completed"
    },
    "tags": []
   },
   "outputs": [],
   "source": [
    "encoder = build_encoder()\n",
    "decoder = build_decoder()\n",
    "print('Encoder Summary\\n\\n')\n",
    "encoder.summary()\n",
    "print('\\n\\nDecoder Summary\\n\\n')\n",
    "decoder.summary()\n",
    "keras.utils.plot_model(encoder, show_shapes=True, expand_nested=True, to_file='encoder.png')\n",
    "keras.utils.plot_model(decoder, show_shapes=True, expand_nested=True, to_file='decoder.png')\n",
    "fig, ax = plt.subplots(1, 2, figsize=(20, 12))\n",
    "ax[0].imshow(plt.imread('encoder.png'))\n",
    "ax[0].set_title('Encoder', fontsize=18)\n",
    "ax[1].imshow(plt.imread('decoder.png'))\n",
    "ax[1].set_title('Decoder', fontsize=18)\n",
    "ax[0].axis(\"off\")\n",
    "ax[1].axis(\"off\")\n",
    "plt.show()"
   ]
  },
  {
   "cell_type": "markdown",
   "id": "1dfa975d",
   "metadata": {
    "id": "1dfa975d",
    "papermill": {
     "duration": 0.018074,
     "end_time": "2022-04-04T07:36:42.140726",
     "exception": false,
     "start_time": "2022-04-04T07:36:42.122652",
     "status": "completed"
    },
    "tags": [
     "same_step_2"
    ]
   },
   "source": [
    "# VAE in Action"
   ]
  },
  {
   "cell_type": "code",
   "execution_count": null,
   "id": "b6939589",
   "metadata": {
    "colab": {
     "base_uri": "https://localhost:8080/",
     "height": 1000
    },
    "execution": {
     "iopub.execute_input": "2022-04-04T07:36:42.183832Z",
     "iopub.status.busy": "2022-04-04T07:36:42.183327Z",
     "iopub.status.idle": "2022-04-04T07:46:14.936695Z",
     "shell.execute_reply": "2022-04-04T07:46:14.937132Z",
     "shell.execute_reply.started": "2021-09-25T06:47:02.030693Z"
    },
    "executionInfo": {
     "elapsed": 1755380,
     "status": "ok",
     "timestamp": 1649082896486,
     "user": {
      "displayName": "Ritvik Rastogi",
      "userId": "01504835329516909297"
     },
     "user_tz": -330
    },
    "id": "b6939589",
    "outputId": "77301aa2-87af-453b-87b2-578ade99fb9b",
    "papermill": {
     "duration": 572.778575,
     "end_time": "2022-04-04T07:46:14.937288",
     "exception": false,
     "start_time": "2022-04-04T07:36:42.158713",
     "status": "completed"
    },
    "scrolled": true,
    "tags": []
   },
   "outputs": [],
   "source": [
    "for i in range(10):\n",
    "    LABEL = i\n",
    "    dataset = prepare_data(LABEL, BATCH_SIZE)\n",
    "\n",
    "    encoder = build_encoder()\n",
    "    decoder = build_decoder()\n",
    "    \n",
    "    gan = VAE(\n",
    "        encoder=encoder, decoder=decoder, \n",
    "    )\n",
    "    gan.compile(\n",
    "        keras.optimizers.Adam(learning_rate=0.001),\n",
    "    )\n",
    "    \n",
    "    fig, ax = plt.subplots(figsize=(20, 6))\n",
    "    ax.set_title(f'Learning Curve-{LABEL}', fontsize=18)\n",
    "    history = gan.fit(dataset, epochs=N_EPOCHS, verbose=1)\n",
    "    pd.DataFrame(history.history).plot(ax=ax)\n",
    "    ax.grid()\n",
    "       \n",
    "    decoder.save(f'MNIST-AUG-VAE-{LABEL}.h5')"
   ]
  },
  {
   "cell_type": "markdown",
   "id": "40155c7d",
   "metadata": {
    "id": "40155c7d",
    "papermill": {
     "duration": 3.401352,
     "end_time": "2022-04-04T07:46:21.434245",
     "exception": false,
     "start_time": "2022-04-04T07:46:18.032893",
     "status": "completed"
    },
    "tags": []
   },
   "source": [
    "# Generated Images"
   ]
  },
  {
   "cell_type": "code",
   "execution_count": null,
   "id": "a1265c11",
   "metadata": {
    "colab": {
     "base_uri": "https://localhost:8080/",
     "height": 1000,
     "output_embedded_package_id": "1UF-rZJrxNoCwVSvoGQvEXh9FuVV7hTy8"
    },
    "execution": {
     "iopub.execute_input": "2022-04-04T07:46:27.672359Z",
     "iopub.status.busy": "2022-04-04T07:46:27.671649Z",
     "iopub.status.idle": "2022-04-04T07:47:29.413483Z",
     "shell.execute_reply": "2022-04-04T07:47:29.414017Z",
     "shell.execute_reply.started": "2021-09-25T06:56:28.490427Z"
    },
    "executionInfo": {
     "elapsed": 48940,
     "status": "ok",
     "timestamp": 1649082945406,
     "user": {
      "displayName": "Ritvik Rastogi",
      "userId": "01504835329516909297"
     },
     "user_tz": -330
    },
    "id": "a1265c11",
    "outputId": "e504ba83-95d2-41f1-a72b-12dcf584a315",
    "papermill": {
     "duration": 64.911767,
     "end_time": "2022-04-04T07:47:29.414179",
     "exception": false,
     "start_time": "2022-04-04T07:46:24.502412",
     "status": "completed"
    },
    "tags": []
   },
   "outputs": [],
   "source": [
    "for i in range(10):\n",
    "    decoder = keras.models.load_model(f'MNIST-AUG-VAE-{i}.h5')\n",
    "    fake_images = decoder(tf.random.normal([128, CODINGS_SIZE]))\n",
    "    plot_results(fake_images, 16, f'Images Generated for class {i}')\n",
    "    plt.show()"
   ]
  }
 ],
 "metadata": {
  "accelerator": "GPU",
  "celltoolbar": "Tags",
  "colab": {
   "collapsed_sections": [],
   "name": "Variational-Auto-Encoder.ipynb",
   "provenance": []
  },
  "kernelspec": {
   "display_name": "Python 3 (ipykernel)",
   "language": "python",
   "name": "python3"
  },
  "language_info": {
   "codemirror_mode": {
    "name": "ipython",
    "version": 3
   },
   "file_extension": ".py",
   "mimetype": "text/x-python",
   "name": "python",
   "nbconvert_exporter": "python",
   "pygments_lexer": "ipython3",
   "version": "3.10.2"
  },
  "papermill": {
   "default_parameters": {},
   "duration": 682.421939,
   "end_time": "2022-04-04T07:47:49.514298",
   "environment_variables": {},
   "exception": null,
   "input_path": "__notebook__.ipynb",
   "output_path": "__notebook__.ipynb",
   "parameters": {},
   "start_time": "2022-04-04T07:36:27.092359",
   "version": "2.3.3"
  }
 },
 "nbformat": 4,
 "nbformat_minor": 5
}
