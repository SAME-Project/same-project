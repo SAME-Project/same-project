{
 "cells": [
  {
   "cell_type": "markdown",
   "id": "vYaXd7ISfCHG",
   "metadata": {
    "id": "vYaXd7ISfCHG"
   },
   "source": [
    "<a href=\"https://www.kaggle.com/code/ritvik1909/feature-tokenizer-transformer/\" target=\"_blank\"><img align=\"left\" alt=\"Kaggle\" title=\"Open in Kaggle\" src=\"https://kaggle.com/static/images/open-in-kaggle.svg\"></a>"
   ]
  },
  {
   "cell_type": "markdown",
   "id": "09826e04",
   "metadata": {
    "id": "09826e04",
    "papermill": {
     "duration": 0.020595,
     "end_time": "2022-03-31T14:04:34.631874",
     "exception": false,
     "start_time": "2022-03-31T14:04:34.611279",
     "status": "completed"
    },
    "tags": []
   },
   "source": [
    "# Feature Tokenizer Transformer\n",
    "Featured in the paper [Revisiting Deep Learning Models for Tabular Data (2021, June)](https://arxiv.org/abs/2106.11959) Feature Tokenizer Transformer is a simple adaptation of the Transformer architecture for the tabular domain. In a nutshell, Feature Tokenizer Transformer transforms all features (categorical and numerical) to embeddings and applies a stack of Transformer layers to the embeddings. Thus, every Transformer layer operates on the feature level of one object.\n",
    "\n",
    "In this notebook we will be implementing Feature Tokenizer Transformer using TensorFlow 2 from scratch."
   ]
  },
  {
   "cell_type": "code",
   "execution_count": null,
   "id": "iW5s96JIyd6-",
   "metadata": {
    "executionInfo": {
     "elapsed": 4065,
     "status": "ok",
     "timestamp": 1650556962126,
     "user": {
      "displayName": "Ritvik Rastogi",
      "userId": "01504835329516909297"
     },
     "user_tz": -330
    },
    "id": "iW5s96JIyd6-"
   },
   "outputs": [],
   "source": [
    "%%capture\n",
    "!pip install tensorflow-addons"
   ]
  },
  {
   "cell_type": "code",
   "execution_count": null,
   "id": "457cf1b0",
   "metadata": {
    "_cell_guid": "b1076dfc-b9ad-4769-8c92-a6c4dae69d19",
    "_uuid": "8f2839f25d086af736a60e9eeb907d3b93b6e0e5",
    "execution": {
     "iopub.execute_input": "2022-03-31T14:04:34.678481Z",
     "iopub.status.busy": "2022-03-31T14:04:34.676340Z",
     "iopub.status.idle": "2022-03-31T14:04:41.559310Z",
     "shell.execute_reply": "2022-03-31T14:04:41.558566Z",
     "shell.execute_reply.started": "2022-02-09T09:09:07.50688Z"
    },
    "executionInfo": {
     "elapsed": 3711,
     "status": "ok",
     "timestamp": 1650556965778,
     "user": {
      "displayName": "Ritvik Rastogi",
      "userId": "01504835329516909297"
     },
     "user_tz": -330
    },
    "id": "457cf1b0",
    "papermill": {
     "duration": 6.907577,
     "end_time": "2022-03-31T14:04:41.559509",
     "exception": false,
     "start_time": "2022-03-31T14:04:34.651932",
     "status": "completed"
    },
    "tags": []
   },
   "outputs": [],
   "source": [
    "import numpy as np\n",
    "import pandas as pd\n",
    "import matplotlib.pyplot as plt\n",
    "import tensorflow as tf\n",
    "from tensorflow import keras\n",
    "from tensorflow.keras import layers as L\n",
    "from tensorflow_addons.activations import sparsemax\n",
    "from tensorflow.data import Dataset\n",
    "from sklearn.preprocessing import StandardScaler\n",
    "from sklearn.compose import make_column_selector, ColumnTransformer\n",
    "from sklearn.model_selection import StratifiedKFold\n",
    "from sklearn.metrics import confusion_matrix, classification_report\n",
    "import joblib\n",
    "from tensorflow.keras import utils"
   ]
  },
  {
   "cell_type": "markdown",
   "id": "a01faffd",
   "metadata": {
    "id": "a01faffd",
    "papermill": {
     "duration": 0.018805,
     "end_time": "2022-03-31T14:04:41.597609",
     "exception": false,
     "start_time": "2022-03-31T14:04:41.578804",
     "status": "completed"
    },
    "tags": []
   },
   "source": [
    "# Data\n",
    "Loading the train and test csv files into `pandas.DataFrame` and splitting the columns as features and target.\n",
    "\n",
    "We will be using Stratified K folds as our local cross validation."
   ]
  },
  {
   "cell_type": "code",
   "execution_count": null,
   "id": "5f0e0c77",
   "metadata": {
    "colab": {
     "base_uri": "https://localhost:8080/",
     "height": 224
    },
    "execution": {
     "iopub.execute_input": "2022-03-31T14:04:41.642070Z",
     "iopub.status.busy": "2022-03-31T14:04:41.640798Z",
     "iopub.status.idle": "2022-03-31T14:05:13.765418Z",
     "shell.execute_reply": "2022-03-31T14:05:13.765978Z",
     "shell.execute_reply.started": "2022-02-09T09:12:07.378505Z"
    },
    "executionInfo": {
     "elapsed": 67,
     "status": "ok",
     "timestamp": 1650556965783,
     "user": {
      "displayName": "Ritvik Rastogi",
      "userId": "01504835329516909297"
     },
     "user_tz": -330
    },
    "id": "5f0e0c77",
    "outputId": "4455f38a-cf9b-43b9-87a9-a2e2c8c2d275",
    "papermill": {
     "duration": 32.15078,
     "end_time": "2022-03-31T14:05:13.766160",
     "exception": false,
     "start_time": "2022-03-31T14:04:41.615380",
     "status": "completed"
    },
    "tags": []
   },
   "outputs": [],
   "source": [
    "data = pd.read_csv('/content/sample_data/california_housing_train.csv')\n",
    "data['total_rooms'] = (data['total_rooms'] % 10).astype(int).astype(str) # for demonstration purpose we will treat these columns as categorical\n",
    "data['total_bedrooms'] = (data['total_bedrooms'] % 10).astype(int).astype(str) # for demonstration purpose we will treat these columns as categorical\n",
    "data['median_house_value'] = data['median_house_value'] // 100_000 # converting the problem for a rgression to a classification problem\n",
    "print(data.shape)\n",
    "data.head()"
   ]
  },
  {
   "cell_type": "code",
   "execution_count": null,
   "id": "33890ed1",
   "metadata": {
    "colab": {
     "base_uri": "https://localhost:8080/"
    },
    "execution": {
     "iopub.execute_input": "2022-03-31T14:05:13.814861Z",
     "iopub.status.busy": "2022-03-31T14:05:13.814084Z",
     "iopub.status.idle": "2022-03-31T14:05:28.504049Z",
     "shell.execute_reply": "2022-03-31T14:05:28.503424Z",
     "shell.execute_reply.started": "2022-02-07T16:57:49.893665Z"
    },
    "executionInfo": {
     "elapsed": 43,
     "status": "ok",
     "timestamp": 1650556965794,
     "user": {
      "displayName": "Ritvik Rastogi",
      "userId": "01504835329516909297"
     },
     "user_tz": -330
    },
    "id": "33890ed1",
    "outputId": "84355785-80fb-4fb3-86f1-4de0dc6c75fc",
    "papermill": {
     "duration": 14.715904,
     "end_time": "2022-03-31T14:05:28.504193",
     "exception": false,
     "start_time": "2022-03-31T14:05:13.788289",
     "status": "completed"
    },
    "tags": []
   },
   "outputs": [],
   "source": [
    "test = pd.read_csv('/content/sample_data/california_housing_test.csv')\n",
    "test['total_rooms'] = (test['total_rooms'] % 10).astype(int).astype(str) # for demonstration purpose we will treat these columns as categorical\n",
    "test['total_bedrooms'] = (test['total_bedrooms'] % 10).astype(int).astype(str) # for demonstration purpose we will treat these columns as categorical\n",
    "test['median_house_value'] = test['median_house_value'] // 100_000 # converting the problem for a rgression to a classification problem\n",
    "print(test.shape)\n",
    "X_test = test.drop(['median_house_value'], axis=1)\n",
    "y_test = pd.get_dummies(test['median_house_value'])"
   ]
  },
  {
   "cell_type": "code",
   "execution_count": null,
   "id": "ba666ff7",
   "metadata": {
    "execution": {
     "iopub.execute_input": "2022-03-31T14:05:28.673783Z",
     "iopub.status.busy": "2022-03-31T14:05:28.672869Z",
     "iopub.status.idle": "2022-03-31T14:05:28.689473Z",
     "shell.execute_reply": "2022-03-31T14:05:28.690014Z",
     "shell.execute_reply.started": "2022-02-07T16:58:00.28421Z"
    },
    "executionInfo": {
     "elapsed": 39,
     "status": "ok",
     "timestamp": 1650556965797,
     "user": {
      "displayName": "Ritvik Rastogi",
      "userId": "01504835329516909297"
     },
     "user_tz": -330
    },
    "id": "ba666ff7",
    "papermill": {
     "duration": 0.163677,
     "end_time": "2022-03-31T14:05:28.690210",
     "exception": false,
     "start_time": "2022-03-31T14:05:28.526533",
     "status": "completed"
    },
    "tags": []
   },
   "outputs": [],
   "source": [
    "X = data.drop(['median_house_value'], axis=1)\n",
    "y = pd.get_dummies(data['median_house_value'])"
   ]
  },
  {
   "cell_type": "markdown",
   "id": "36986880",
   "metadata": {
    "id": "36986880",
    "papermill": {
     "duration": 0.022543,
     "end_time": "2022-03-31T14:05:28.793311",
     "exception": false,
     "start_time": "2022-03-31T14:05:28.770768",
     "status": "completed"
    },
    "tags": [
     "same_step_1"
    ]
   },
   "source": [
    "# Model\n",
    "**Creating some data utility classes**:\n",
    "\n",
    "`DataConfig` helps to segregate the features into numeric features and categorical features and maintain a vocabulary for the categorical ones.\n",
    "\n",
    "`DataLoader` class creates `tf.data.Dataset` objects from `pandas.DataFrame` to ensure efficiency in the input pipeline to the model."
   ]
  },
  {
   "cell_type": "code",
   "execution_count": null,
   "id": "11ad8c7b",
   "metadata": {
    "execution": {
     "iopub.execute_input": "2022-03-31T14:05:28.848441Z",
     "iopub.status.busy": "2022-03-31T14:05:28.847411Z",
     "iopub.status.idle": "2022-03-31T14:05:28.850963Z",
     "shell.execute_reply": "2022-03-31T14:05:28.850342Z",
     "shell.execute_reply.started": "2022-02-07T16:58:00.460541Z"
    },
    "executionInfo": {
     "elapsed": 39,
     "status": "ok",
     "timestamp": 1650556965798,
     "user": {
      "displayName": "Ritvik Rastogi",
      "userId": "01504835329516909297"
     },
     "user_tz": -330
    },
    "id": "11ad8c7b",
    "papermill": {
     "duration": 0.035478,
     "end_time": "2022-03-31T14:05:28.851093",
     "exception": false,
     "start_time": "2022-03-31T14:05:28.815615",
     "status": "completed"
    },
    "tags": []
   },
   "outputs": [],
   "source": [
    "class DataConfig:\n",
    "    def __init__(self, numeric_feature_names, categorical_features_with_vocabulary):\n",
    "        self.NUMERIC_FEATURE_NAMES = numeric_feature_names\n",
    "        self.CATEGORICAL_FEATURES_WITH_VOCABULARY = categorical_features_with_vocabulary\n",
    "        self.CATEGORICAL_FEATURE_NAMES = list(self.CATEGORICAL_FEATURES_WITH_VOCABULARY.keys())\n",
    "        self.FEATURE_NAMES = self.NUMERIC_FEATURE_NAMES + self.CATEGORICAL_FEATURE_NAMES\n",
    "        \n",
    "class DataLoader:\n",
    "    @classmethod\n",
    "    def from_df(cls, X, y=None, batch_size=1024):\n",
    "        return (\n",
    "            Dataset.from_tensor_slices(({col: X[col].values.tolist() for col in X.columns}, y.values.tolist())).batch(\n",
    "                batch_size\n",
    "            )\n",
    "            if y is not None\n",
    "            else Dataset.from_tensor_slices({col: X[col].values.tolist() for col in X.columns}).batch(batch_size)\n",
    "        )        "
   ]
  },
  {
   "cell_type": "markdown",
   "id": "f2e41252",
   "metadata": {
    "id": "f2e41252",
    "papermill": {
     "duration": 0.022767,
     "end_time": "2022-03-31T14:05:28.898555",
     "exception": false,
     "start_time": "2022-03-31T14:05:28.875788",
     "status": "completed"
    },
    "tags": []
   },
   "source": [
    "**Creating Input Layers and Feature Encoding Layers**\n",
    "\n",
    "`get_inputs` returns a dictionary of Input Layers based on the data types of the feature columns mentioned in the `DataConfig` object.\n",
    "\n",
    "`encode_inputs` applies StringLookup and Embedding Layer to the categorical features and Reshapes the Numeric Features in order to encode the inputs."
   ]
  },
  {
   "cell_type": "code",
   "execution_count": null,
   "id": "536dd575",
   "metadata": {
    "execution": {
     "iopub.execute_input": "2022-03-31T14:05:28.958742Z",
     "iopub.status.busy": "2022-03-31T14:05:28.956589Z",
     "iopub.status.idle": "2022-03-31T14:05:28.959664Z",
     "shell.execute_reply": "2022-03-31T14:05:28.960277Z",
     "shell.execute_reply.started": "2022-02-07T16:58:00.472966Z"
    },
    "executionInfo": {
     "elapsed": 40,
     "status": "ok",
     "timestamp": 1650556965799,
     "user": {
      "displayName": "Ritvik Rastogi",
      "userId": "01504835329516909297"
     },
     "user_tz": -330
    },
    "id": "536dd575",
    "papermill": {
     "duration": 0.039,
     "end_time": "2022-03-31T14:05:28.960429",
     "exception": false,
     "start_time": "2022-03-31T14:05:28.921429",
     "status": "completed"
    },
    "tags": []
   },
   "outputs": [],
   "source": [
    "def get_inputs(config):\n",
    "    return {\n",
    "        feature_name: L.Input(\n",
    "            name=feature_name,\n",
    "            shape=(),\n",
    "            dtype=(tf.float32 if feature_name in config.NUMERIC_FEATURE_NAMES else tf.string),\n",
    "        )\n",
    "        for feature_name in config.FEATURE_NAMES\n",
    "    }\n",
    "\n",
    "def encode_inputs(inputs, config, use_embeddings=False, embedding_dim=32, prefix=\"\", concat_features=False):\n",
    "    cat_features = []\n",
    "    num_features = []\n",
    "    for feature_name in inputs:\n",
    "        if feature_name in config.CATEGORICAL_FEATURE_NAMES:\n",
    "            vocabulary = config.CATEGORICAL_FEATURES_WITH_VOCABULARY[feature_name]\n",
    "            lookup = L.StringLookup(\n",
    "                vocabulary=vocabulary,\n",
    "                mask_token=None,\n",
    "                num_oov_indices=0,\n",
    "                output_mode=\"int\" if use_embeddings else \"binary\",\n",
    "                name=f\"{prefix}{feature_name}_lookup\",\n",
    "            )\n",
    "            if use_embeddings:\n",
    "                encoded_feature = lookup(inputs[feature_name])\n",
    "                embedding = L.Embedding(\n",
    "                    input_dim=len(vocabulary),\n",
    "                    output_dim=embedding_dim,\n",
    "                    name=f\"{prefix}{feature_name}_embeddings\",\n",
    "                )\n",
    "                encoded_feature = embedding(encoded_feature)\n",
    "            else:\n",
    "                encoded_feature = lookup(\n",
    "                    L.Reshape((1,), name=f\"{prefix}{feature_name}_reshape\")(inputs[feature_name])\n",
    "                )\n",
    "            cat_features.append(encoded_feature)\n",
    "        else:\n",
    "            encoded_feature = L.Reshape((1,), name=f\"{prefix}{feature_name}_reshape\")(inputs[feature_name])\n",
    "            num_features.append(encoded_feature)\n",
    "\n",
    "    features = (\n",
    "        L.Concatenate(name=f\"{prefix}inputs_concatenate\")(cat_features + num_features)\n",
    "        if concat_features\n",
    "        else (cat_features, num_features)\n",
    "    )\n",
    "\n",
    "    return features"
   ]
  },
  {
   "cell_type": "markdown",
   "id": "d9a367da",
   "metadata": {
    "id": "d9a367da",
    "papermill": {
     "duration": 0.022304,
     "end_time": "2022-03-31T14:05:29.005787",
     "exception": false,
     "start_time": "2022-03-31T14:05:28.983483",
     "status": "completed"
    },
    "tags": []
   },
   "source": [
    "**Defining Model Configurations**\n",
    "* Number of Outputs\n",
    "* Activation of the Output Layer\n",
    "* Number of Transformer Blocks\n",
    "* Number of heads in the Transformer Blocks\n",
    "* Embedding Dimension for the features\n",
    "* Dimesion of the Dense Projections in the transfomer blocks"
   ]
  },
  {
   "cell_type": "code",
   "execution_count": null,
   "id": "c5770219",
   "metadata": {
    "execution": {
     "iopub.execute_input": "2022-03-31T14:05:29.058084Z",
     "iopub.status.busy": "2022-03-31T14:05:29.057315Z",
     "iopub.status.idle": "2022-03-31T14:05:29.061191Z",
     "shell.execute_reply": "2022-03-31T14:05:29.060562Z",
     "shell.execute_reply.started": "2022-02-07T16:58:00.487521Z"
    },
    "executionInfo": {
     "elapsed": 39,
     "status": "ok",
     "timestamp": 1650556965800,
     "user": {
      "displayName": "Ritvik Rastogi",
      "userId": "01504835329516909297"
     },
     "user_tz": -330
    },
    "id": "c5770219",
    "papermill": {
     "duration": 0.032786,
     "end_time": "2022-03-31T14:05:29.061345",
     "exception": false,
     "start_time": "2022-03-31T14:05:29.028559",
     "status": "completed"
    },
    "tags": []
   },
   "outputs": [],
   "source": [
    "class FeatureTokenizerTransformerConfig:\n",
    "    def __init__(\n",
    "        self,\n",
    "        num_outputs,\n",
    "        out_activation,\n",
    "        num_transformer_blocks=2,\n",
    "        num_heads=8,\n",
    "        embedding_dim=32,\n",
    "        dense_dim=16,\n",
    "    ):\n",
    "        self.NUM_OUT = num_outputs\n",
    "        self.OUT_ACTIVATION = out_activation\n",
    "        self.NUM_TRANSFORMER_BLOCKS = num_transformer_blocks\n",
    "        self.NUM_HEADS = num_heads\n",
    "        self.EMBEDDING_DIM = embedding_dim\n",
    "        self.DENSE_DIM = dense_dim"
   ]
  },
  {
   "cell_type": "markdown",
   "id": "956b6ba0",
   "metadata": {
    "id": "956b6ba0",
    "papermill": {
     "duration": 0.022108,
     "end_time": "2022-03-31T14:05:29.108372",
     "exception": false,
     "start_time": "2022-03-31T14:05:29.086264",
     "status": "completed"
    },
    "tags": []
   },
   "source": [
    "**Defining a standard Transformer Block**"
   ]
  },
  {
   "cell_type": "code",
   "execution_count": null,
   "id": "9c5ca0fb",
   "metadata": {
    "execution": {
     "iopub.execute_input": "2022-03-31T14:05:29.162977Z",
     "iopub.status.busy": "2022-03-31T14:05:29.162287Z",
     "iopub.status.idle": "2022-03-31T14:05:29.166968Z",
     "shell.execute_reply": "2022-03-31T14:05:29.166387Z",
     "shell.execute_reply.started": "2022-02-07T16:58:00.496789Z"
    },
    "executionInfo": {
     "elapsed": 38,
     "status": "ok",
     "timestamp": 1650556965801,
     "user": {
      "displayName": "Ritvik Rastogi",
      "userId": "01504835329516909297"
     },
     "user_tz": -330
    },
    "id": "9c5ca0fb",
    "papermill": {
     "duration": 0.036378,
     "end_time": "2022-03-31T14:05:29.167099",
     "exception": false,
     "start_time": "2022-03-31T14:05:29.130721",
     "status": "completed"
    },
    "tags": []
   },
   "outputs": [],
   "source": [
    "class TransformerBlock(L.Layer):\n",
    "    def __init__(self, embed_dim, dense_dim, num_heads, **kwargs):\n",
    "        super().__init__(**kwargs)\n",
    "        self.embed_dim = embed_dim\n",
    "        self.dense_dim = dense_dim\n",
    "        self.num_heads = num_heads\n",
    "        self.attention = L.MultiHeadAttention(num_heads=num_heads, key_dim=embed_dim)\n",
    "        self.dense_proj = tf.keras.Sequential([L.Dense(dense_dim, activation=\"relu\"), L.Dense(embed_dim)])\n",
    "        self.layernorm1 = L.LayerNormalization()\n",
    "        self.layernorm2 = L.LayerNormalization()\n",
    "\n",
    "    def call(self, inputs, mask=None):\n",
    "        if mask is not None:\n",
    "            mask = mask[: tf.newaxis, :]\n",
    "        attention_output = self.attention(inputs, inputs, attention_mask=mask)\n",
    "        proj_input = self.layernorm1(inputs + attention_output)\n",
    "        proj_output = self.dense_proj(proj_input)\n",
    "        return self.layernorm2(proj_input + proj_output)"
   ]
  },
  {
   "cell_type": "markdown",
   "id": "d148c442",
   "metadata": {
    "id": "d148c442",
    "papermill": {
     "duration": 0.023095,
     "end_time": "2022-03-31T14:05:29.212849",
     "exception": false,
     "start_time": "2022-03-31T14:05:29.189754",
     "status": "completed"
    },
    "tags": []
   },
   "source": [
    "**Defining the Model**\n",
    "The model takes Inputs Layers and then encodes the features from the functions defined above, the numerical features are then passed through a Dense layer of the same dimensions as the embeddings of the categorical features.\n",
    "\n",
    "All the feature embeddings are then stacked and then passed through a series of Transformer Blocks followed by the Global Average Pooling and Final Output Layer"
   ]
  },
  {
   "cell_type": "code",
   "execution_count": null,
   "id": "92ebcc05",
   "metadata": {
    "execution": {
     "iopub.execute_input": "2022-03-31T14:05:29.270498Z",
     "iopub.status.busy": "2022-03-31T14:05:29.266313Z",
     "iopub.status.idle": "2022-03-31T14:05:29.273531Z",
     "shell.execute_reply": "2022-03-31T14:05:29.272918Z",
     "shell.execute_reply.started": "2022-02-07T16:58:00.496789Z"
    },
    "executionInfo": {
     "elapsed": 38,
     "status": "ok",
     "timestamp": 1650556965802,
     "user": {
      "displayName": "Ritvik Rastogi",
      "userId": "01504835329516909297"
     },
     "user_tz": -330
    },
    "id": "92ebcc05",
    "papermill": {
     "duration": 0.037916,
     "end_time": "2022-03-31T14:05:29.273653",
     "exception": false,
     "start_time": "2022-03-31T14:05:29.235737",
     "status": "completed"
    },
    "tags": []
   },
   "outputs": [],
   "source": [
    "class FeatureTokenizerTransformer:\n",
    "    @classmethod\n",
    "    def from_config(cls, data_config, model_config, name):\n",
    "        inputs = get_inputs(data_config)\n",
    "        cat_features, num_features = encode_inputs(\n",
    "            inputs,\n",
    "            data_config,\n",
    "            use_embeddings=True,\n",
    "            embedding_dim=model_config.EMBEDDING_DIM,\n",
    "            prefix=\"\",\n",
    "            concat_features=False,\n",
    "        )\n",
    "        num_feat_emb = [\n",
    "            L.Dense(model_config.EMBEDDING_DIM, name=f\"{feature_name}_embeddings\")\n",
    "            for _, feature_name in zip(range(len(num_features)), data_config.NUMERIC_FEATURE_NAMES)\n",
    "        ]\n",
    "        num_features = [emb(feat) for emb, feat in zip(num_feat_emb, num_features)]\n",
    "\n",
    "        features = L.Concatenate(axis=1, name=\"feature_embeddings_stack\")(\n",
    "            [\n",
    "                L.Reshape((1, 32), name=f\"{feat_name}_reshape_2\")(feat)\n",
    "                for feat, feat_name in zip((num_features + cat_features), data_config.FEATURE_NAMES)\n",
    "            ]\n",
    "        )\n",
    "\n",
    "        for _ in range(model_config.NUM_TRANSFORMER_BLOCKS):\n",
    "            features = TransformerBlock(\n",
    "                embed_dim=model_config.EMBEDDING_DIM,\n",
    "                dense_dim=model_config.DENSE_DIM,\n",
    "                num_heads=model_config.NUM_HEADS,\n",
    "            )(features)\n",
    "        features = L.GlobalMaxPooling1D()(features)\n",
    "        outputs = L.Dense(\n",
    "            units=model_config.NUM_OUT,\n",
    "            activation=model_config.OUT_ACTIVATION,\n",
    "            name=\"outputs\",\n",
    "        )(features)\n",
    "        model = keras.Model(inputs=inputs, outputs=outputs, name=name)\n",
    "        return model"
   ]
  },
  {
   "cell_type": "markdown",
   "id": "e7b3a0ee",
   "metadata": {
    "id": "e7b3a0ee",
    "papermill": {
     "duration": 0.022378,
     "end_time": "2022-03-31T14:05:29.318065",
     "exception": false,
     "start_time": "2022-03-31T14:05:29.295687",
     "status": "completed"
    },
    "tags": []
   },
   "source": [
    "**Creating instances of the various classes defined so far**"
   ]
  },
  {
   "cell_type": "code",
   "execution_count": null,
   "id": "6d324e5a",
   "metadata": {
    "execution": {
     "iopub.execute_input": "2022-03-31T14:05:29.369088Z",
     "iopub.status.busy": "2022-03-31T14:05:29.367848Z",
     "iopub.status.idle": "2022-03-31T14:05:29.370809Z",
     "shell.execute_reply": "2022-03-31T14:05:29.371496Z",
     "shell.execute_reply.started": "2022-02-07T16:58:00.515632Z"
    },
    "executionInfo": {
     "elapsed": 38,
     "status": "ok",
     "timestamp": 1650556965804,
     "user": {
      "displayName": "Ritvik Rastogi",
      "userId": "01504835329516909297"
     },
     "user_tz": -330
    },
    "id": "6d324e5a",
    "papermill": {
     "duration": 0.030625,
     "end_time": "2022-03-31T14:05:29.371645",
     "exception": false,
     "start_time": "2022-03-31T14:05:29.341020",
     "status": "completed"
    },
    "tags": []
   },
   "outputs": [],
   "source": [
    "data_config = DataConfig(\n",
    "    numeric_feature_names=['longitude', 'latitude', 'housing_median_age', 'population', 'households', 'median_income'], \n",
    "    categorical_features_with_vocabulary={\n",
    "        'total_rooms': [str(i) for i in range(10)],\n",
    "        'total_bedrooms': [str(i) for i in range(10)],\n",
    "    }\n",
    ")\n",
    "model_config = FeatureTokenizerTransformerConfig(num_outputs=y.shape[1], out_activation='softmax')"
   ]
  },
  {
   "cell_type": "code",
   "execution_count": null,
   "id": "bf11fc2c",
   "metadata": {
    "colab": {
     "base_uri": "https://localhost:8080/",
     "height": 1000
    },
    "execution": {
     "iopub.execute_input": "2022-03-31T14:05:29.420812Z",
     "iopub.status.busy": "2022-03-31T14:05:29.419831Z",
     "iopub.status.idle": "2022-03-31T14:05:39.684695Z",
     "shell.execute_reply": "2022-03-31T14:05:39.685657Z",
     "shell.execute_reply.started": "2022-02-07T16:58:00.52588Z"
    },
    "executionInfo": {
     "elapsed": 3639,
     "status": "ok",
     "timestamp": 1650556969409,
     "user": {
      "displayName": "Ritvik Rastogi",
      "userId": "01504835329516909297"
     },
     "user_tz": -330
    },
    "id": "bf11fc2c",
    "outputId": "0869a413-ef6d-45f7-ccf0-21ec5bf4635d",
    "papermill": {
     "duration": 10.291903,
     "end_time": "2022-03-31T14:05:39.686006",
     "exception": false,
     "start_time": "2022-03-31T14:05:29.394103",
     "status": "completed"
    },
    "scrolled": true,
    "tags": []
   },
   "outputs": [],
   "source": [
    "model = FeatureTokenizerTransformer.from_config(data_config, model_config, name='ftt')\n",
    "model.summary()\n",
    "utils.plot_model(model, show_shapes=True, expand_nested=True, rankdir='LR')"
   ]
  },
  {
   "cell_type": "code",
   "execution_count": null,
   "id": "668dd940",
   "metadata": {
    "execution": {
     "iopub.execute_input": "2022-03-31T14:05:39.761148Z",
     "iopub.status.busy": "2022-03-31T14:05:39.760110Z",
     "iopub.status.idle": "2022-03-31T14:05:39.762782Z",
     "shell.execute_reply": "2022-03-31T14:05:39.763361Z",
     "shell.execute_reply.started": "2022-02-07T16:59:04.408088Z"
    },
    "executionInfo": {
     "elapsed": 34,
     "status": "ok",
     "timestamp": 1650556969417,
     "user": {
      "displayName": "Ritvik Rastogi",
      "userId": "01504835329516909297"
     },
     "user_tz": -330
    },
    "id": "668dd940",
    "papermill": {
     "duration": 0.042795,
     "end_time": "2022-03-31T14:05:39.763510",
     "exception": false,
     "start_time": "2022-03-31T14:05:39.720715",
     "status": "completed"
    },
    "tags": []
   },
   "outputs": [],
   "source": [
    "MAX_EPOCHS  = 10_000\n",
    "\n",
    "get_callbacks = lambda : [\n",
    "    keras.callbacks.EarlyStopping(min_delta=1e-4, patience=10, verbose=1, restore_best_weights=True),\n",
    "    keras.callbacks.ReduceLROnPlateau(patience=3, verbose=1),\n",
    "    keras.callbacks.CSVLogger(\"training_log.csv\"),\n",
    "]"
   ]
  },
  {
   "cell_type": "code",
   "execution_count": null,
   "id": "D7i50Z7R_LAr",
   "metadata": {
    "executionInfo": {
     "elapsed": 37,
     "status": "ok",
     "timestamp": 1650556969422,
     "user": {
      "displayName": "Ritvik Rastogi",
      "userId": "01504835329516909297"
     },
     "user_tz": -330
    },
    "id": "D7i50Z7R_LAr"
   },
   "outputs": [],
   "source": [
    "get_preprocessor = lambda : ColumnTransformer(\n",
    "    transformers=[(\"num\", StandardScaler(), data_config.NUMERIC_FEATURE_NAMES)],\n",
    "    remainder='passthrough'\n",
    ")"
   ]
  },
  {
   "cell_type": "markdown",
   "id": "a54ce176",
   "metadata": {
    "id": "a54ce176",
    "papermill": {
     "duration": 0.029339,
     "end_time": "2022-03-31T14:05:39.822871",
     "exception": false,
     "start_time": "2022-03-31T14:05:39.793532",
     "status": "completed"
    },
    "tags": [
     "same_step_2"
    ]
   },
   "source": [
    "# Training Loop"
   ]
  },
  {
   "cell_type": "code",
   "execution_count": null,
   "id": "26c8d63d",
   "metadata": {
    "execution": {
     "iopub.execute_input": "2022-03-31T14:05:39.896069Z",
     "iopub.status.busy": "2022-03-31T14:05:39.894947Z",
     "iopub.status.idle": "2022-03-31T22:43:20.878373Z",
     "shell.execute_reply": "2022-03-31T22:43:20.879492Z",
     "shell.execute_reply.started": "2022-02-07T16:59:04.417412Z"
    },
    "executionInfo": {
     "elapsed": 1039898,
     "status": "ok",
     "timestamp": 1650558009285,
     "user": {
      "displayName": "Ritvik Rastogi",
      "userId": "01504835329516909297"
     },
     "user_tz": -330
    },
    "id": "26c8d63d",
    "papermill": {
     "duration": 31061.028116,
     "end_time": "2022-03-31T22:43:20.879702",
     "exception": false,
     "start_time": "2022-03-31T14:05:39.851586",
     "status": "completed"
    },
    "tags": []
   },
   "outputs": [],
   "source": [
    "%%capture\n",
    "preprocessor = get_preprocessor().fit(X)\n",
    "X = pd.DataFrame(preprocessor.transform(X), columns=data_config.NUMERIC_FEATURE_NAMES + data_config.CATEGORICAL_FEATURE_NAMES)\n",
    "X_test = pd.DataFrame(preprocessor.transform(X_test), columns=data_config.NUMERIC_FEATURE_NAMES + data_config.CATEGORICAL_FEATURE_NAMES)\n",
    "\n",
    "for col in data_config.NUMERIC_FEATURE_NAMES:\n",
    "  X[col] = X[col].astype(float)\n",
    "  X_test[col] = X_test[col].astype(float)\n",
    "\n",
    "for col in data_config.CATEGORICAL_FEATURE_NAMES:\n",
    "  X[col] = X[col].astype(str)\n",
    "  X_test[col] = X_test[col].astype(str)\n",
    "    \n",
    "data_train = DataLoader.from_df(X, y, batch_size=512)\n",
    "data_test = DataLoader.from_df(X_test, y_test, batch_size=512)\n",
    "    \n",
    "model.compile(loss='categorical_crossentropy', optimizer='adam', metrics='accuracy')\n",
    "model.fit(\n",
    "    data_train, validation_data=data_test, callbacks=get_callbacks(), \n",
    "    epochs=MAX_EPOCHS\n",
    ")  \n",
    "preds = model.predict(data_test)"
   ]
  },
  {
   "cell_type": "markdown",
   "id": "4ec702ad",
   "metadata": {
    "id": "4ec702ad",
    "papermill": {
     "duration": 15.733372,
     "end_time": "2022-03-31T22:43:52.092011",
     "exception": false,
     "start_time": "2022-03-31T22:43:36.358639",
     "status": "completed"
    },
    "tags": []
   },
   "source": [
    "# Evaluation"
   ]
  },
  {
   "cell_type": "code",
   "execution_count": null,
   "id": "5eacd805",
   "metadata": {
    "colab": {
     "base_uri": "https://localhost:8080/"
    },
    "execution": {
     "iopub.execute_input": "2022-03-31T22:44:23.944481Z",
     "iopub.status.busy": "2022-03-31T22:44:23.943887Z",
     "iopub.status.idle": "2022-03-31T22:44:24.411346Z",
     "shell.execute_reply": "2022-03-31T22:44:24.410395Z",
     "shell.execute_reply.started": "2022-02-07T17:05:49.950752Z"
    },
    "executionInfo": {
     "elapsed": 404,
     "status": "ok",
     "timestamp": 1650558064335,
     "user": {
      "displayName": "Ritvik Rastogi",
      "userId": "01504835329516909297"
     },
     "user_tz": -330
    },
    "id": "5eacd805",
    "outputId": "4a7f1209-d4b1-40ab-e394-c57116574aac",
    "papermill": {
     "duration": 16.863791,
     "end_time": "2022-03-31T22:44:24.411495",
     "exception": false,
     "start_time": "2022-03-31T22:44:07.547704",
     "status": "completed"
    },
    "tags": []
   },
   "outputs": [],
   "source": [
    "confusion_matrix(test['median_house_value'], preds.argmax(axis=1))"
   ]
  },
  {
   "cell_type": "code",
   "execution_count": null,
   "id": "6Z3YRbCey9nG",
   "metadata": {
    "colab": {
     "base_uri": "https://localhost:8080/"
    },
    "executionInfo": {
     "elapsed": 622,
     "status": "ok",
     "timestamp": 1650558081528,
     "user": {
      "displayName": "Ritvik Rastogi",
      "userId": "01504835329516909297"
     },
     "user_tz": -330
    },
    "id": "6Z3YRbCey9nG",
    "outputId": "303edea8-9a17-4b9d-e1bd-39033117f5e7"
   },
   "outputs": [],
   "source": [
    "print(classification_report(test['median_house_value'], preds.argmax(axis=1)))"
   ]
  }
 ],
 "metadata": {
  "celltoolbar": "Tags",
  "colab": {
   "collapsed_sections": [],
   "name": "Feature-Tokenizer-Transformer.ipynb",
   "provenance": []
  },
  "kernelspec": {
   "display_name": "Python 3 (ipykernel)",
   "language": "python",
   "name": "python3"
  },
  "language_info": {
   "codemirror_mode": {
    "name": "ipython",
    "version": 3
   },
   "file_extension": ".py",
   "mimetype": "text/x-python",
   "name": "python",
   "nbconvert_exporter": "python",
   "pygments_lexer": "ipython3",
   "version": "3.10.2"
  },
  "papermill": {
   "default_parameters": {},
   "duration": 31218.584849,
   "end_time": "2022-03-31T22:44:43.439536",
   "environment_variables": {},
   "exception": null,
   "input_path": "__notebook__.ipynb",
   "output_path": "__notebook__.ipynb",
   "parameters": {},
   "start_time": "2022-03-31T14:04:24.854687",
   "version": "2.3.3"
  }
 },
 "nbformat": 4,
 "nbformat_minor": 5
}
