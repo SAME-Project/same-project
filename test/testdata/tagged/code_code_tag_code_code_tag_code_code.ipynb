{
 "cells": [
  {
   "cell_type": "code",
   "execution_count": 1,
   "id": "48317eb0",
   "metadata": {},
   "outputs": [],
   "source": [
    "code_line_one_a = \"1a\""
   ]
  },
  {
   "cell_type": "code",
   "execution_count": null,
   "id": "6a273ed8",
   "metadata": {},
   "outputs": [],
   "source": [
    "code_line_one_b = \"1b\""
   ]
  },
  {
   "cell_type": "code",
   "execution_count": null,
   "id": "e0af8116",
   "metadata": {
    "tags": [
     "same_step_1"
    ]
   },
   "outputs": [],
   "source": [
    "code_line_two_a = \"2a\""
   ]
  },
  {
   "cell_type": "code",
   "execution_count": null,
   "id": "5ad5a150",
   "metadata": {},
   "outputs": [],
   "source": [
    "code_line_two_b = \"2b\""
   ]
  },
  {
   "cell_type": "code",
   "execution_count": null,
   "id": "6e895149",
   "metadata": {
    "tags": [
     "same_step_2"
    ]
   },
   "outputs": [],
   "source": [
    "code_line_three_a = \"3a\""
   ]
  },
  {
   "cell_type": "code",
   "execution_count": null,
   "id": "a63e81bf",
   "metadata": {},
   "outputs": [],
   "source": [
    "code_line_three_b = \"3b\""
   ]
  }
 ],
 "metadata": {
  "celltoolbar": "Tags",
  "kernelspec": {
   "display_name": "Python 3",
   "language": "python",
   "name": "python3"
  },
  "language_info": {
   "codemirror_mode": {
    "name": "ipython",
    "version": 3
   },
   "file_extension": ".py",
   "mimetype": "text/x-python",
   "name": "python",
   "nbconvert_exporter": "python",
   "pygments_lexer": "ipython3",
   "version": "3.9.5"
  }
 },
 "nbformat": 4,
 "nbformat_minor": 5
}
