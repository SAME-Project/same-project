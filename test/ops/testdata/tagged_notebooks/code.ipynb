{
 "cells": [
  {
   "cell_type": "code",
   "execution_count": null,
   "id": "6a273ed8",
   "metadata": {},
   "outputs": [],
   "source": [
    "code_line_one_a = \"1a\""
   ]
  },
  {
   "cell_type": "code",
   "execution_count": null,
   "id": "e0af8116",
   "metadata": {},
   "outputs": [],
   "source": [
    "code_line_two_a = \"2a\""
   ]
  },
  {
   "cell_type": "code",
   "execution_count": null,
   "id": "6e895149",
   "metadata": {},
   "outputs": [],
   "source": [
    "code_line_three_a = \"3a\""
   ]
  }
 ],
 "metadata": {
  "celltoolbar": "Tags",
  "kernelspec": {
   "display_name": "Python 3",
   "language": "python",
   "name": "python3"
  },
  "language_info": {
   "codemirror_mode": {
    "name": "ipython",
    "version": 3
   },
   "file_extension": ".py",
   "mimetype": "text/x-python",
   "name": "python",
   "nbconvert_exporter": "python",
   "pygments_lexer": "ipython3",
   "version": "3.9.5"
  }
 },
 "nbformat": 4,
 "nbformat_minor": 5
}
