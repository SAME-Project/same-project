{
 "cells": [
  {
   "cell_type": "code",
   "execution_count": 3,
   "source": [
    "import same\n",
    "\n",
    "same.import_packages(\"six\")"
   ],
   "outputs": [
    {
     "output_type": "stream",
     "name": "stdout",
     "text": [
      "2021-09-14 13:13.34 [info     ] init johnnydist                dist=six parent=None\n",
      "2021-09-14 13:13.34 [debug    ] fetching best wheel            dist=six\n",
      "2021-09-14 13:13.34 [debug    ] created scratch                dist_name=six tmpdir=/var/folders/f_/6hhd4mmx7z734psc7n4m7ygc0000gn/T/tmp88iyu8gh\n",
      "2021-09-14 13:13.34 [debug    ] wheeling and dealing           args=/Users/daaronch/code/same-mono-private/.venv/bin/python -m pip wheel -vvv --no-deps --no-cache-dir --disable-pip-version-check --progress-bar=off --use-deprecated=legacy-resolver six scratch_dir=/var/folders/f_/6hhd4mmx7z734psc7n4m7ygc0000gn/T/tmp88iyu8gh/tmp0szpjbr3\n",
      "2021-09-14 13:13.35 [debug    ] wheel command completed ok     dist_name=six\n",
      "2021-09-14 13:13.35 [debug    ] finding import names\n",
      "2021-09-14 13:13.35 [debug    ] searching metadata             whl_file=/var/folders/f_/6hhd4mmx7z734psc7n4m7ygc0000gn/T/tmp88iyu8gh/tmp0szpjbr3/six-1.16.0-py2.py3-none-any.whl\n",
      "2021-09-14 13:13.35 [debug    ] removing scratch               dist_name=six tmpdir=/var/folders/f_/6hhd4mmx7z734psc7n4m7ygc0000gn/T/tmp88iyu8gh\n",
      "2021-09-14 13:13.35 [debug    ] checking versions available    dist=six\n",
      "2021-09-14 13:13.36 [debug    ] found versions                 dist=six versions=['0.9.0', '0.9.1', '0.9.2', '1.0b1', '1.0.0', '1.1.0', '1.2.0', '1.3.0', '1.4.0', '1.4.1', '1.5.0', '1.5.1', '1.5.2', '1.6.0', '1.6.1', '1.7.0', '1.7.1', '1.7.2', '1.7.3', '1.8.0', '1.9.0', '1.10.0', '1.11.0', '1.12.0', '1.13.0', '1.14.0', '1.15.0', '1.16.0']\n",
      "2021-09-14 13:13.36 [debug    ] checking if installed already  dist=six\n",
      "2021-09-14 13:13.36 [debug    ] existing installation found    dist=six version=1.16.0\n",
      "Packages skipped because they are already installed: %v six==1.16.0\n"
     ]
    }
   ],
   "metadata": {
    "tags": [
     "parameters"
    ]
   }
  },
  {
   "cell_type": "code",
   "execution_count": null,
   "source": [],
   "outputs": [],
   "metadata": {}
  }
 ],
 "metadata": {
  "celltoolbar": "Tags",
  "kernelspec": {
   "name": "python3",
   "display_name": "Python 3.9.6 64-bit ('.venv': poetry)"
  },
  "language_info": {
   "codemirror_mode": {
    "name": "ipython",
    "version": 3
   },
   "file_extension": ".py",
   "mimetype": "text/x-python",
   "name": "python",
   "nbconvert_exporter": "python",
   "pygments_lexer": "ipython3",
   "version": "3.9.6"
  },
  "interpreter": {
   "hash": "f6e133ef28ad03ee9105a1f692939d9783bb5b8635f1687c64721f6e414eb520"
  }
 },
 "nbformat": 4,
 "nbformat_minor": 5
}