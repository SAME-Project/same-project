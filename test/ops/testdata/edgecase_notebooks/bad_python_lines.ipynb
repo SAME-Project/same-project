{
 "cells": [
  {
   "cell_type": "code",
   "execution_count": null,
   "id": "97673970",
   "metadata": {},
   "outputs": [],
   "source": [
    "!pip install six\n",
    "! pip install six\n",
    "! pip install minimal==0.1.0"
   ]
  }
 ],
 "metadata": {
  "kernelspec": {
   "display_name": "Python 3",
   "language": "python",
   "name": "python3"
  },
  "language_info": {
   "codemirror_mode": {
    "name": "ipython",
    "version": 3
   },
   "file_extension": ".py",
   "mimetype": "text/x-python",
   "name": "python",
   "nbconvert_exporter": "python",
   "pygments_lexer": "ipython3",
   "version": "3.9.5"
  }
 },
 "nbformat": 4,
 "nbformat_minor": 5
}
