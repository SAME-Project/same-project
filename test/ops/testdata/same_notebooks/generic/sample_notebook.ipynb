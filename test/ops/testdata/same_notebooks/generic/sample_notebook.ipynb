{
 "cells": [
  {
   "cell_type": "code",
   "execution_count": null,
   "metadata": {
    "tags": [
     "parameters"
    ]
   },
   "outputs": [],
   "source": [
    "dataset = 'sample_data'\n",
    "gpu_type = 'A100'"
   ]
  },
  {
   "cell_type": "code",
   "execution_count": null,
   "metadata": {},
   "outputs": [],
   "source": [
    "import tensorflow\n",
    "import datetime\n",
    "\n",
    "print(f\"Time: {datetime.datetime.now()}\")\n",
    "\n",
    "a = 10\n",
    "b = a + 5 #15"
   ]
  },
  {
   "cell_type": "code",
   "execution_count": null,
   "metadata": {},
   "outputs": [],
   "source": [
    "from IPython.display import Image\n",
    "\n",
    "url = 'https://raw.githubusercontent.com/SAME-Project/SAME-samples/main/test-artifacts/FaroeIslands.jpeg'\n",
    "\n",
    "print(f\"Time: {datetime.datetime.now()}\")\n",
    "\n",
    "a = a + 5\n",
    "b = b + 10 #25\n",
    "\n",
    "from IPython import display\n",
    "display.Image(url)\n"
   ]
  },
  {
   "cell_type": "code",
   "execution_count": null,
   "metadata": {},
   "outputs": [],
   "source": [
    "import plotly\n",
    "\n",
    "print(f\"Time: {datetime.datetime.now()}\")\n",
    "\n",
    "def some_math(x, z) -> tuple:\n",
    "    return (round(x + z, 2), round(x / z, 2))\n",
    "\n",
    "a = a * 20\n",
    "b = b * 100 #2500\n",
    "\n",
    "print(f\"B = {b}\")"
   ]
  },
  {
   "cell_type": "code",
   "execution_count": null,
   "metadata": {
    "tags": [
     "same_step_1",
     "image=python:3.8-slim-buster"
    ]
   },
   "outputs": [],
   "source": [
    "import numpy as np\n",
    "import matplotlib.pyplot as plt\n",
    "import scipy.stats as stats\n",
    "\n",
    "print(f\"Time: {datetime.datetime.now()}\")\n",
    "\n",
    "mu = 0\n",
    "std = 1\n",
    "\n",
    "x = np.linspace(start=-4, stop=4, num=100)\n",
    "y = stats.norm.pdf(x, mu, std)\n",
    "\n",
    "a = a + 5\n",
    "b = b + 10 # 2515 \n",
    "\n",
    "plt.plot(x, y)\n",
    "plt.show()"
   ]
  },
  {
   "cell_type": "code",
   "execution_count": null,
   "metadata": {},
   "outputs": [],
   "source": [
    "import requests\n",
    "import pandas as pd\n",
    "import plotly.figure_factory as ff\n",
    "import chart_studio.plotly as py\n",
    "\n",
    "print(f\"Time: {datetime.datetime.now()}\")\n",
    "\n",
    "url = 'https://raw.githubusercontent.com/SAME-Project/SAME-samples/main/test-artifacts/test.csv'\n",
    "df = pd.read_csv(url)\n",
    "\n",
    "a = a * 1000\n",
    "b = b / 67 # 37.5373134328\n",
    "\n",
    "df.describe()"
   ]
  },
  {
   "cell_type": "code",
   "execution_count": null,
   "metadata": {
    "tags": [
     "same_step_2"
    ]
   },
   "outputs": [],
   "source": [
    "a = a + 5\n",
    "b = b + 10 # 47.5373134328\n",
    "print(f\"Time: {datetime.datetime.now()}\")"
   ]
  },
  {
   "cell_type": "code",
   "execution_count": null,
   "metadata": {},
   "outputs": [],
   "source": [
    "g = some_math(8, 21)\n",
    "print(f\"Time: {datetime.datetime.now()}\")"
   ]
  },
  {
   "cell_type": "code",
   "execution_count": null,
   "metadata": {},
   "outputs": [],
   "source": [
    "j = g[0]\n",
    "k = g[1]\n",
    "\n",
    "print(f\"Time: {datetime.datetime.now()}\")\n",
    "\n",
    "a = a + 5\n",
    "b = b + 10 # 57.5373134328\n",
    "\n",
    "print(f\"j: {j}\")"
   ]
  },
  {
   "cell_type": "code",
   "execution_count": null,
   "metadata": {},
   "outputs": [],
   "source": [
    "print(f\"k: {k}\")\n",
    "\n",
    "print(f\"Time: {datetime.datetime.now()}\")\n",
    "\n",
    "a = a + 5\n",
    "b = b + 10 # 67.5373134328"
   ]
  },
  {
   "cell_type": "code",
   "execution_count": null,
   "metadata": {},
   "outputs": [],
   "source": [
    "print(\"0.0.2\")\n",
    "print(f\"Time: {datetime.datetime.now()}\")"
   ]
  },
  {
   "cell_type": "code",
   "execution_count": null,
   "metadata": {},
   "outputs": [],
   "source": [
    "print(f\"Accessing the value of B: {b}\")\n",
    "print(f\"Time: {datetime.datetime.now()}\")"
   ]
  },
  {
   "cell_type": "code",
   "execution_count": null,
   "metadata": {},
   "outputs": [],
   "source": []
  }
 ],
 "metadata": {
  "celltoolbar": "Tags",
  "kernelspec": {
   "display_name": "Python 3 (ipykernel)",
   "language": "python",
   "name": "python3"
  },
  "language_info": {
   "codemirror_mode": {
    "name": "ipython",
    "version": 3
   },
   "file_extension": ".py",
   "mimetype": "text/x-python",
   "name": "python",
   "nbconvert_exporter": "python",
   "pygments_lexer": "ipython3",
   "version": "3.9.6"
  }
 },
 "nbformat": 4,
 "nbformat_minor": 5
}
